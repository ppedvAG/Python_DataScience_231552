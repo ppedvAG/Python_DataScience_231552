{
 "cells": [
  {
   "cell_type": "markdown",
   "id": "c0c8f9b6-0526-4989-b5b4-d577e78128ab",
   "metadata": {},
   "source": [
    "## Machine Learning"
   ]
  },
  {
   "cell_type": "markdown",
   "id": "5ac4301e-171a-4ba9-92dd-d3e6e231fd64",
   "metadata": {},
   "source": [
    "### Model"
   ]
  },
  {
   "cell_type": "markdown",
   "id": "66a014dc-bd3b-428f-b685-74eeeb8f9ac6",
   "metadata": {},
   "source": [
    "Programm, das über Daten mithilfe eines Algorithmus' generiert wird. Der Algorithmus beobachtet Zusammenhänge in dem Datenset und schreibt in diese in dem Model nieder. Danach können neue Daten in das Modell hineingegeben werden um eine Vorhersage zu bekommen."
   ]
  },
  {
   "cell_type": "markdown",
   "id": "79e5cb9c-d622-4bbe-96b2-1d02ac9d2101",
   "metadata": {},
   "source": [
    "### Beispiel: Wetter Modell\n",
    "\n",
    "4 Datenpunkte: Datum, Uhrzeit, Niederschlag %, Wolken %\n",
    "\n",
    "Ergebnis: Grad Celsius\n",
    "\n",
    "Input: 01.07., 12:00, 0%, 0% -> 32°\n",
    "\n",
    "Input: 01.01., 12:00, 0%, 0% -> 10°\n",
    "\n",
    "Vergangenheitsdaten der letzten 30 Jahre -> Training vom Modell\n",
    "\n",
    "In das fertige Modell können neue Daten gefüttert werden und am Ende kommt eine Vorhersage heraus"
   ]
  },
  {
   "cell_type": "markdown",
   "id": "b5afdc49-acf3-496b-b621-4b8c50b4f6d5",
   "metadata": {},
   "source": [
    "### Trainingsprozess\n",
    "\n",
    "Der Algorithmus erkennt Zusammenhänge im Datenset und berechnet daraus die Genauigkeit (Accuracy) und den Verlust (Loss) des Modells.\n",
    "\n",
    "Am Ende dieses Prozesses werden die Ergebnisdaten wieder in das Modell zurück gefüttert -> Lernen\n",
    "\n",
    "Ganz am Ende kommt das Model als Ergebnis heraus"
   ]
  },
  {
   "cell_type": "markdown",
   "id": "32abb805-a699-4948-ba43-392a50c9f3d4",
   "metadata": {},
   "source": [
    "## Datenset"
   ]
  },
  {
   "cell_type": "markdown",
   "id": "80e1cdbd-90e3-4c40-bd67-fa898ea570ef",
   "metadata": {},
   "source": [
    "Das MAGIC Gamma Telescope Set besteht aus Daten zu Partikeln die das Teleskop treffen. Der Rekorder zeichnet dies auf, und speichert die Daten zu den entsprechenden Partikeln mit einer Klassifizierung.\n",
    "\n",
    "2 Partikel:\n",
    "- Gamma Strahlen\n",
    "- Hadronen\n",
    "\n",
    "Mit diesem Datenset können wir ein Machine Learing Model schreiben, welches anhand der Daten selbstständig erkennt um welche Art von Partikel es sich handelt.\n",
    "\n",
    "Beschreibung des Datensets:\n",
    "- fLength: continuous # major axis of ellipse [mm]\n",
    "- fWidth: continuous # minor axis of ellipse [mm]\n",
    "- fSize: continuous # 10-log of sum of content of all pixels [in #phot]\n",
    "- fConc: continuous # ratio of sum of two highest pixels over fSize [ratio]\n",
    "- fConc1: continuous # ratio of highest pixel over fSize [ratio]\n",
    "- fAsym: continuous # distance from highest pixel to center, projected onto major axis [mm]\n",
    "- fM3Long: continuous # 3rd root of third moment along major axis [mm]\n",
    "- fM3Trans: continuous # 3rd root of third moment along minor axis [mm]\n",
    "- fAlpha: continuous # angle of major axis with vector to origin [deg]\n",
    "- fDist: continuous # distance from origin to center of ellipse [mm]\n",
    "- class: g,h # gamma (signal), hadron (background)"
   ]
  },
  {
   "cell_type": "code",
   "execution_count": 1,
   "id": "3f999695-7e77-4a1c-a8ce-1d51c308f306",
   "metadata": {},
   "outputs": [],
   "source": [
    "import numpy as np\n",
    "import pandas as pd\n",
    "import matplotlib.pyplot as plt"
   ]
  },
  {
   "cell_type": "code",
   "execution_count": 17,
   "id": "f063183f-33a3-419c-a3e3-5e19ac47feb7",
   "metadata": {},
   "outputs": [],
   "source": [
    "df = pd.read_csv(\"Data/MAGIC.csv\")"
   ]
  },
  {
   "cell_type": "code",
   "execution_count": 18,
   "id": "25d04b40-97b9-45b8-90e0-64126bf32be0",
   "metadata": {},
   "outputs": [
    {
     "data": {
      "text/html": [
       "<div>\n",
       "<style scoped>\n",
       "    .dataframe tbody tr th:only-of-type {\n",
       "        vertical-align: middle;\n",
       "    }\n",
       "\n",
       "    .dataframe tbody tr th {\n",
       "        vertical-align: top;\n",
       "    }\n",
       "\n",
       "    .dataframe thead th {\n",
       "        text-align: right;\n",
       "    }\n",
       "</style>\n",
       "<table border=\"1\" class=\"dataframe\">\n",
       "  <thead>\n",
       "    <tr style=\"text-align: right;\">\n",
       "      <th></th>\n",
       "      <th>fLength</th>\n",
       "      <th>fWidth</th>\n",
       "      <th>fSize</th>\n",
       "      <th>fConc</th>\n",
       "      <th>fConc1</th>\n",
       "      <th>fAsym</th>\n",
       "      <th>fM3Long</th>\n",
       "      <th>fM3Trans</th>\n",
       "      <th>fAlpha</th>\n",
       "      <th>fDist</th>\n",
       "      <th>class</th>\n",
       "    </tr>\n",
       "  </thead>\n",
       "  <tbody>\n",
       "    <tr>\n",
       "      <th>0</th>\n",
       "      <td>28.7967</td>\n",
       "      <td>16.0021</td>\n",
       "      <td>2.6449</td>\n",
       "      <td>0.3918</td>\n",
       "      <td>0.1982</td>\n",
       "      <td>27.7004</td>\n",
       "      <td>22.0110</td>\n",
       "      <td>-8.2027</td>\n",
       "      <td>40.0920</td>\n",
       "      <td>81.8828</td>\n",
       "      <td>g</td>\n",
       "    </tr>\n",
       "    <tr>\n",
       "      <th>1</th>\n",
       "      <td>31.6036</td>\n",
       "      <td>11.7235</td>\n",
       "      <td>2.5185</td>\n",
       "      <td>0.5303</td>\n",
       "      <td>0.3773</td>\n",
       "      <td>26.2722</td>\n",
       "      <td>23.8238</td>\n",
       "      <td>-9.9574</td>\n",
       "      <td>6.3609</td>\n",
       "      <td>205.2610</td>\n",
       "      <td>g</td>\n",
       "    </tr>\n",
       "    <tr>\n",
       "      <th>2</th>\n",
       "      <td>162.0520</td>\n",
       "      <td>136.0310</td>\n",
       "      <td>4.0612</td>\n",
       "      <td>0.0374</td>\n",
       "      <td>0.0187</td>\n",
       "      <td>116.7410</td>\n",
       "      <td>-64.8580</td>\n",
       "      <td>-45.2160</td>\n",
       "      <td>76.9600</td>\n",
       "      <td>256.7880</td>\n",
       "      <td>g</td>\n",
       "    </tr>\n",
       "    <tr>\n",
       "      <th>3</th>\n",
       "      <td>23.8172</td>\n",
       "      <td>9.5728</td>\n",
       "      <td>2.3385</td>\n",
       "      <td>0.6147</td>\n",
       "      <td>0.3922</td>\n",
       "      <td>27.2107</td>\n",
       "      <td>-6.4633</td>\n",
       "      <td>-7.1513</td>\n",
       "      <td>10.4490</td>\n",
       "      <td>116.7370</td>\n",
       "      <td>g</td>\n",
       "    </tr>\n",
       "    <tr>\n",
       "      <th>4</th>\n",
       "      <td>75.1362</td>\n",
       "      <td>30.9205</td>\n",
       "      <td>3.1611</td>\n",
       "      <td>0.3168</td>\n",
       "      <td>0.1832</td>\n",
       "      <td>-5.5277</td>\n",
       "      <td>28.5525</td>\n",
       "      <td>21.8393</td>\n",
       "      <td>4.6480</td>\n",
       "      <td>356.4620</td>\n",
       "      <td>g</td>\n",
       "    </tr>\n",
       "    <tr>\n",
       "      <th>...</th>\n",
       "      <td>...</td>\n",
       "      <td>...</td>\n",
       "      <td>...</td>\n",
       "      <td>...</td>\n",
       "      <td>...</td>\n",
       "      <td>...</td>\n",
       "      <td>...</td>\n",
       "      <td>...</td>\n",
       "      <td>...</td>\n",
       "      <td>...</td>\n",
       "      <td>...</td>\n",
       "    </tr>\n",
       "    <tr>\n",
       "      <th>19015</th>\n",
       "      <td>21.3846</td>\n",
       "      <td>10.9170</td>\n",
       "      <td>2.6161</td>\n",
       "      <td>0.5857</td>\n",
       "      <td>0.3934</td>\n",
       "      <td>15.2618</td>\n",
       "      <td>11.5245</td>\n",
       "      <td>2.8766</td>\n",
       "      <td>2.4229</td>\n",
       "      <td>106.8258</td>\n",
       "      <td>h</td>\n",
       "    </tr>\n",
       "    <tr>\n",
       "      <th>19016</th>\n",
       "      <td>28.9452</td>\n",
       "      <td>6.7020</td>\n",
       "      <td>2.2672</td>\n",
       "      <td>0.5351</td>\n",
       "      <td>0.2784</td>\n",
       "      <td>37.0816</td>\n",
       "      <td>13.1853</td>\n",
       "      <td>-2.9632</td>\n",
       "      <td>86.7975</td>\n",
       "      <td>247.4560</td>\n",
       "      <td>h</td>\n",
       "    </tr>\n",
       "    <tr>\n",
       "      <th>19017</th>\n",
       "      <td>75.4455</td>\n",
       "      <td>47.5305</td>\n",
       "      <td>3.4483</td>\n",
       "      <td>0.1417</td>\n",
       "      <td>0.0549</td>\n",
       "      <td>-9.3561</td>\n",
       "      <td>41.0562</td>\n",
       "      <td>-9.4662</td>\n",
       "      <td>30.2987</td>\n",
       "      <td>256.5166</td>\n",
       "      <td>h</td>\n",
       "    </tr>\n",
       "    <tr>\n",
       "      <th>19018</th>\n",
       "      <td>120.5135</td>\n",
       "      <td>76.9018</td>\n",
       "      <td>3.9939</td>\n",
       "      <td>0.0944</td>\n",
       "      <td>0.0683</td>\n",
       "      <td>5.8043</td>\n",
       "      <td>-93.5224</td>\n",
       "      <td>-63.8389</td>\n",
       "      <td>84.6874</td>\n",
       "      <td>408.3166</td>\n",
       "      <td>h</td>\n",
       "    </tr>\n",
       "    <tr>\n",
       "      <th>19019</th>\n",
       "      <td>187.1814</td>\n",
       "      <td>53.0014</td>\n",
       "      <td>3.2093</td>\n",
       "      <td>0.2876</td>\n",
       "      <td>0.1539</td>\n",
       "      <td>-167.3125</td>\n",
       "      <td>-168.4558</td>\n",
       "      <td>31.4755</td>\n",
       "      <td>52.7310</td>\n",
       "      <td>272.3174</td>\n",
       "      <td>h</td>\n",
       "    </tr>\n",
       "  </tbody>\n",
       "</table>\n",
       "<p>19020 rows × 11 columns</p>\n",
       "</div>"
      ],
      "text/plain": [
       "        fLength    fWidth   fSize   fConc  fConc1     fAsym   fM3Long  \\\n",
       "0       28.7967   16.0021  2.6449  0.3918  0.1982   27.7004   22.0110   \n",
       "1       31.6036   11.7235  2.5185  0.5303  0.3773   26.2722   23.8238   \n",
       "2      162.0520  136.0310  4.0612  0.0374  0.0187  116.7410  -64.8580   \n",
       "3       23.8172    9.5728  2.3385  0.6147  0.3922   27.2107   -6.4633   \n",
       "4       75.1362   30.9205  3.1611  0.3168  0.1832   -5.5277   28.5525   \n",
       "...         ...       ...     ...     ...     ...       ...       ...   \n",
       "19015   21.3846   10.9170  2.6161  0.5857  0.3934   15.2618   11.5245   \n",
       "19016   28.9452    6.7020  2.2672  0.5351  0.2784   37.0816   13.1853   \n",
       "19017   75.4455   47.5305  3.4483  0.1417  0.0549   -9.3561   41.0562   \n",
       "19018  120.5135   76.9018  3.9939  0.0944  0.0683    5.8043  -93.5224   \n",
       "19019  187.1814   53.0014  3.2093  0.2876  0.1539 -167.3125 -168.4558   \n",
       "\n",
       "       fM3Trans   fAlpha     fDist class  \n",
       "0       -8.2027  40.0920   81.8828     g  \n",
       "1       -9.9574   6.3609  205.2610     g  \n",
       "2      -45.2160  76.9600  256.7880     g  \n",
       "3       -7.1513  10.4490  116.7370     g  \n",
       "4       21.8393   4.6480  356.4620     g  \n",
       "...         ...      ...       ...   ...  \n",
       "19015    2.8766   2.4229  106.8258     h  \n",
       "19016   -2.9632  86.7975  247.4560     h  \n",
       "19017   -9.4662  30.2987  256.5166     h  \n",
       "19018  -63.8389  84.6874  408.3166     h  \n",
       "19019   31.4755  52.7310  272.3174     h  \n",
       "\n",
       "[19020 rows x 11 columns]"
      ]
     },
     "execution_count": 18,
     "metadata": {},
     "output_type": "execute_result"
    }
   ],
   "source": [
    "df"
   ]
  },
  {
   "cell_type": "code",
   "execution_count": 19,
   "id": "42037b68-74dc-4285-bb3a-119f5f69904a",
   "metadata": {},
   "outputs": [],
   "source": [
    "df[\"class\"].unique()  # Einzigartige Elemente in der Spalte feststellen\n",
    "\n",
    "df[\"class\"] == \"g\"\n",
    "\n",
    "df[\"class\"] = (df[\"class\"] == \"g\").astype(int)  # Buchstaben zu Zahlen umwandeln, da Machine Learning Algorithmen nur wirklich mit Zahlen arbeiten können"
   ]
  },
  {
   "cell_type": "code",
   "execution_count": 20,
   "id": "5065fde4-d7e9-4cff-9bcd-fa7780c1480c",
   "metadata": {},
   "outputs": [
    {
     "data": {
      "text/html": [
       "<div>\n",
       "<style scoped>\n",
       "    .dataframe tbody tr th:only-of-type {\n",
       "        vertical-align: middle;\n",
       "    }\n",
       "\n",
       "    .dataframe tbody tr th {\n",
       "        vertical-align: top;\n",
       "    }\n",
       "\n",
       "    .dataframe thead th {\n",
       "        text-align: right;\n",
       "    }\n",
       "</style>\n",
       "<table border=\"1\" class=\"dataframe\">\n",
       "  <thead>\n",
       "    <tr style=\"text-align: right;\">\n",
       "      <th></th>\n",
       "      <th>fLength</th>\n",
       "      <th>fWidth</th>\n",
       "      <th>fSize</th>\n",
       "      <th>fConc</th>\n",
       "      <th>fConc1</th>\n",
       "      <th>fAsym</th>\n",
       "      <th>fM3Long</th>\n",
       "      <th>fM3Trans</th>\n",
       "      <th>fAlpha</th>\n",
       "      <th>fDist</th>\n",
       "      <th>class</th>\n",
       "    </tr>\n",
       "  </thead>\n",
       "  <tbody>\n",
       "    <tr>\n",
       "      <th>0</th>\n",
       "      <td>28.7967</td>\n",
       "      <td>16.0021</td>\n",
       "      <td>2.6449</td>\n",
       "      <td>0.3918</td>\n",
       "      <td>0.1982</td>\n",
       "      <td>27.7004</td>\n",
       "      <td>22.0110</td>\n",
       "      <td>-8.2027</td>\n",
       "      <td>40.0920</td>\n",
       "      <td>81.8828</td>\n",
       "      <td>1</td>\n",
       "    </tr>\n",
       "    <tr>\n",
       "      <th>1</th>\n",
       "      <td>31.6036</td>\n",
       "      <td>11.7235</td>\n",
       "      <td>2.5185</td>\n",
       "      <td>0.5303</td>\n",
       "      <td>0.3773</td>\n",
       "      <td>26.2722</td>\n",
       "      <td>23.8238</td>\n",
       "      <td>-9.9574</td>\n",
       "      <td>6.3609</td>\n",
       "      <td>205.2610</td>\n",
       "      <td>1</td>\n",
       "    </tr>\n",
       "    <tr>\n",
       "      <th>2</th>\n",
       "      <td>162.0520</td>\n",
       "      <td>136.0310</td>\n",
       "      <td>4.0612</td>\n",
       "      <td>0.0374</td>\n",
       "      <td>0.0187</td>\n",
       "      <td>116.7410</td>\n",
       "      <td>-64.8580</td>\n",
       "      <td>-45.2160</td>\n",
       "      <td>76.9600</td>\n",
       "      <td>256.7880</td>\n",
       "      <td>1</td>\n",
       "    </tr>\n",
       "    <tr>\n",
       "      <th>3</th>\n",
       "      <td>23.8172</td>\n",
       "      <td>9.5728</td>\n",
       "      <td>2.3385</td>\n",
       "      <td>0.6147</td>\n",
       "      <td>0.3922</td>\n",
       "      <td>27.2107</td>\n",
       "      <td>-6.4633</td>\n",
       "      <td>-7.1513</td>\n",
       "      <td>10.4490</td>\n",
       "      <td>116.7370</td>\n",
       "      <td>1</td>\n",
       "    </tr>\n",
       "    <tr>\n",
       "      <th>4</th>\n",
       "      <td>75.1362</td>\n",
       "      <td>30.9205</td>\n",
       "      <td>3.1611</td>\n",
       "      <td>0.3168</td>\n",
       "      <td>0.1832</td>\n",
       "      <td>-5.5277</td>\n",
       "      <td>28.5525</td>\n",
       "      <td>21.8393</td>\n",
       "      <td>4.6480</td>\n",
       "      <td>356.4620</td>\n",
       "      <td>1</td>\n",
       "    </tr>\n",
       "    <tr>\n",
       "      <th>...</th>\n",
       "      <td>...</td>\n",
       "      <td>...</td>\n",
       "      <td>...</td>\n",
       "      <td>...</td>\n",
       "      <td>...</td>\n",
       "      <td>...</td>\n",
       "      <td>...</td>\n",
       "      <td>...</td>\n",
       "      <td>...</td>\n",
       "      <td>...</td>\n",
       "      <td>...</td>\n",
       "    </tr>\n",
       "    <tr>\n",
       "      <th>19015</th>\n",
       "      <td>21.3846</td>\n",
       "      <td>10.9170</td>\n",
       "      <td>2.6161</td>\n",
       "      <td>0.5857</td>\n",
       "      <td>0.3934</td>\n",
       "      <td>15.2618</td>\n",
       "      <td>11.5245</td>\n",
       "      <td>2.8766</td>\n",
       "      <td>2.4229</td>\n",
       "      <td>106.8258</td>\n",
       "      <td>0</td>\n",
       "    </tr>\n",
       "    <tr>\n",
       "      <th>19016</th>\n",
       "      <td>28.9452</td>\n",
       "      <td>6.7020</td>\n",
       "      <td>2.2672</td>\n",
       "      <td>0.5351</td>\n",
       "      <td>0.2784</td>\n",
       "      <td>37.0816</td>\n",
       "      <td>13.1853</td>\n",
       "      <td>-2.9632</td>\n",
       "      <td>86.7975</td>\n",
       "      <td>247.4560</td>\n",
       "      <td>0</td>\n",
       "    </tr>\n",
       "    <tr>\n",
       "      <th>19017</th>\n",
       "      <td>75.4455</td>\n",
       "      <td>47.5305</td>\n",
       "      <td>3.4483</td>\n",
       "      <td>0.1417</td>\n",
       "      <td>0.0549</td>\n",
       "      <td>-9.3561</td>\n",
       "      <td>41.0562</td>\n",
       "      <td>-9.4662</td>\n",
       "      <td>30.2987</td>\n",
       "      <td>256.5166</td>\n",
       "      <td>0</td>\n",
       "    </tr>\n",
       "    <tr>\n",
       "      <th>19018</th>\n",
       "      <td>120.5135</td>\n",
       "      <td>76.9018</td>\n",
       "      <td>3.9939</td>\n",
       "      <td>0.0944</td>\n",
       "      <td>0.0683</td>\n",
       "      <td>5.8043</td>\n",
       "      <td>-93.5224</td>\n",
       "      <td>-63.8389</td>\n",
       "      <td>84.6874</td>\n",
       "      <td>408.3166</td>\n",
       "      <td>0</td>\n",
       "    </tr>\n",
       "    <tr>\n",
       "      <th>19019</th>\n",
       "      <td>187.1814</td>\n",
       "      <td>53.0014</td>\n",
       "      <td>3.2093</td>\n",
       "      <td>0.2876</td>\n",
       "      <td>0.1539</td>\n",
       "      <td>-167.3125</td>\n",
       "      <td>-168.4558</td>\n",
       "      <td>31.4755</td>\n",
       "      <td>52.7310</td>\n",
       "      <td>272.3174</td>\n",
       "      <td>0</td>\n",
       "    </tr>\n",
       "  </tbody>\n",
       "</table>\n",
       "<p>19020 rows × 11 columns</p>\n",
       "</div>"
      ],
      "text/plain": [
       "        fLength    fWidth   fSize   fConc  fConc1     fAsym   fM3Long  \\\n",
       "0       28.7967   16.0021  2.6449  0.3918  0.1982   27.7004   22.0110   \n",
       "1       31.6036   11.7235  2.5185  0.5303  0.3773   26.2722   23.8238   \n",
       "2      162.0520  136.0310  4.0612  0.0374  0.0187  116.7410  -64.8580   \n",
       "3       23.8172    9.5728  2.3385  0.6147  0.3922   27.2107   -6.4633   \n",
       "4       75.1362   30.9205  3.1611  0.3168  0.1832   -5.5277   28.5525   \n",
       "...         ...       ...     ...     ...     ...       ...       ...   \n",
       "19015   21.3846   10.9170  2.6161  0.5857  0.3934   15.2618   11.5245   \n",
       "19016   28.9452    6.7020  2.2672  0.5351  0.2784   37.0816   13.1853   \n",
       "19017   75.4455   47.5305  3.4483  0.1417  0.0549   -9.3561   41.0562   \n",
       "19018  120.5135   76.9018  3.9939  0.0944  0.0683    5.8043  -93.5224   \n",
       "19019  187.1814   53.0014  3.2093  0.2876  0.1539 -167.3125 -168.4558   \n",
       "\n",
       "       fM3Trans   fAlpha     fDist  class  \n",
       "0       -8.2027  40.0920   81.8828      1  \n",
       "1       -9.9574   6.3609  205.2610      1  \n",
       "2      -45.2160  76.9600  256.7880      1  \n",
       "3       -7.1513  10.4490  116.7370      1  \n",
       "4       21.8393   4.6480  356.4620      1  \n",
       "...         ...      ...       ...    ...  \n",
       "19015    2.8766   2.4229  106.8258      0  \n",
       "19016   -2.9632  86.7975  247.4560      0  \n",
       "19017   -9.4662  30.2987  256.5166      0  \n",
       "19018  -63.8389  84.6874  408.3166      0  \n",
       "19019   31.4755  52.7310  272.3174      0  \n",
       "\n",
       "[19020 rows x 11 columns]"
      ]
     },
     "execution_count": 20,
     "metadata": {},
     "output_type": "execute_result"
    }
   ],
   "source": [
    "df"
   ]
  },
  {
   "cell_type": "code",
   "execution_count": 21,
   "id": "bdcf9720-2ad4-4b63-a80c-60e52a09207f",
   "metadata": {},
   "outputs": [
    {
     "data": {
      "text/html": [
       "<div>\n",
       "<style scoped>\n",
       "    .dataframe tbody tr th:only-of-type {\n",
       "        vertical-align: middle;\n",
       "    }\n",
       "\n",
       "    .dataframe tbody tr th {\n",
       "        vertical-align: top;\n",
       "    }\n",
       "\n",
       "    .dataframe thead th {\n",
       "        text-align: right;\n",
       "    }\n",
       "</style>\n",
       "<table border=\"1\" class=\"dataframe\">\n",
       "  <thead>\n",
       "    <tr style=\"text-align: right;\">\n",
       "      <th></th>\n",
       "      <th>fLength</th>\n",
       "      <th>fWidth</th>\n",
       "      <th>fSize</th>\n",
       "      <th>fConc</th>\n",
       "      <th>fConc1</th>\n",
       "      <th>fAsym</th>\n",
       "      <th>fM3Long</th>\n",
       "      <th>fM3Trans</th>\n",
       "      <th>fAlpha</th>\n",
       "      <th>fDist</th>\n",
       "      <th>class</th>\n",
       "    </tr>\n",
       "  </thead>\n",
       "  <tbody>\n",
       "    <tr>\n",
       "      <th>0</th>\n",
       "      <td>28.7967</td>\n",
       "      <td>16.0021</td>\n",
       "      <td>2.6449</td>\n",
       "      <td>0.3918</td>\n",
       "      <td>0.1982</td>\n",
       "      <td>27.7004</td>\n",
       "      <td>22.0110</td>\n",
       "      <td>-8.2027</td>\n",
       "      <td>40.0920</td>\n",
       "      <td>81.8828</td>\n",
       "      <td>1</td>\n",
       "    </tr>\n",
       "    <tr>\n",
       "      <th>1</th>\n",
       "      <td>31.6036</td>\n",
       "      <td>11.7235</td>\n",
       "      <td>2.5185</td>\n",
       "      <td>0.5303</td>\n",
       "      <td>0.3773</td>\n",
       "      <td>26.2722</td>\n",
       "      <td>23.8238</td>\n",
       "      <td>-9.9574</td>\n",
       "      <td>6.3609</td>\n",
       "      <td>205.2610</td>\n",
       "      <td>1</td>\n",
       "    </tr>\n",
       "    <tr>\n",
       "      <th>2</th>\n",
       "      <td>162.0520</td>\n",
       "      <td>136.0310</td>\n",
       "      <td>4.0612</td>\n",
       "      <td>0.0374</td>\n",
       "      <td>0.0187</td>\n",
       "      <td>116.7410</td>\n",
       "      <td>-64.8580</td>\n",
       "      <td>-45.2160</td>\n",
       "      <td>76.9600</td>\n",
       "      <td>256.7880</td>\n",
       "      <td>1</td>\n",
       "    </tr>\n",
       "    <tr>\n",
       "      <th>3</th>\n",
       "      <td>23.8172</td>\n",
       "      <td>9.5728</td>\n",
       "      <td>2.3385</td>\n",
       "      <td>0.6147</td>\n",
       "      <td>0.3922</td>\n",
       "      <td>27.2107</td>\n",
       "      <td>-6.4633</td>\n",
       "      <td>-7.1513</td>\n",
       "      <td>10.4490</td>\n",
       "      <td>116.7370</td>\n",
       "      <td>1</td>\n",
       "    </tr>\n",
       "    <tr>\n",
       "      <th>4</th>\n",
       "      <td>75.1362</td>\n",
       "      <td>30.9205</td>\n",
       "      <td>3.1611</td>\n",
       "      <td>0.3168</td>\n",
       "      <td>0.1832</td>\n",
       "      <td>-5.5277</td>\n",
       "      <td>28.5525</td>\n",
       "      <td>21.8393</td>\n",
       "      <td>4.6480</td>\n",
       "      <td>356.4620</td>\n",
       "      <td>1</td>\n",
       "    </tr>\n",
       "    <tr>\n",
       "      <th>...</th>\n",
       "      <td>...</td>\n",
       "      <td>...</td>\n",
       "      <td>...</td>\n",
       "      <td>...</td>\n",
       "      <td>...</td>\n",
       "      <td>...</td>\n",
       "      <td>...</td>\n",
       "      <td>...</td>\n",
       "      <td>...</td>\n",
       "      <td>...</td>\n",
       "      <td>...</td>\n",
       "    </tr>\n",
       "    <tr>\n",
       "      <th>19015</th>\n",
       "      <td>21.3846</td>\n",
       "      <td>10.9170</td>\n",
       "      <td>2.6161</td>\n",
       "      <td>0.5857</td>\n",
       "      <td>0.3934</td>\n",
       "      <td>15.2618</td>\n",
       "      <td>11.5245</td>\n",
       "      <td>2.8766</td>\n",
       "      <td>2.4229</td>\n",
       "      <td>106.8258</td>\n",
       "      <td>0</td>\n",
       "    </tr>\n",
       "    <tr>\n",
       "      <th>19016</th>\n",
       "      <td>28.9452</td>\n",
       "      <td>6.7020</td>\n",
       "      <td>2.2672</td>\n",
       "      <td>0.5351</td>\n",
       "      <td>0.2784</td>\n",
       "      <td>37.0816</td>\n",
       "      <td>13.1853</td>\n",
       "      <td>-2.9632</td>\n",
       "      <td>86.7975</td>\n",
       "      <td>247.4560</td>\n",
       "      <td>0</td>\n",
       "    </tr>\n",
       "    <tr>\n",
       "      <th>19017</th>\n",
       "      <td>75.4455</td>\n",
       "      <td>47.5305</td>\n",
       "      <td>3.4483</td>\n",
       "      <td>0.1417</td>\n",
       "      <td>0.0549</td>\n",
       "      <td>-9.3561</td>\n",
       "      <td>41.0562</td>\n",
       "      <td>-9.4662</td>\n",
       "      <td>30.2987</td>\n",
       "      <td>256.5166</td>\n",
       "      <td>0</td>\n",
       "    </tr>\n",
       "    <tr>\n",
       "      <th>19018</th>\n",
       "      <td>120.5135</td>\n",
       "      <td>76.9018</td>\n",
       "      <td>3.9939</td>\n",
       "      <td>0.0944</td>\n",
       "      <td>0.0683</td>\n",
       "      <td>5.8043</td>\n",
       "      <td>-93.5224</td>\n",
       "      <td>-63.8389</td>\n",
       "      <td>84.6874</td>\n",
       "      <td>408.3166</td>\n",
       "      <td>0</td>\n",
       "    </tr>\n",
       "    <tr>\n",
       "      <th>19019</th>\n",
       "      <td>187.1814</td>\n",
       "      <td>53.0014</td>\n",
       "      <td>3.2093</td>\n",
       "      <td>0.2876</td>\n",
       "      <td>0.1539</td>\n",
       "      <td>-167.3125</td>\n",
       "      <td>-168.4558</td>\n",
       "      <td>31.4755</td>\n",
       "      <td>52.7310</td>\n",
       "      <td>272.3174</td>\n",
       "      <td>0</td>\n",
       "    </tr>\n",
       "  </tbody>\n",
       "</table>\n",
       "<p>19020 rows × 11 columns</p>\n",
       "</div>"
      ],
      "text/plain": [
       "        fLength    fWidth   fSize   fConc  fConc1     fAsym   fM3Long  \\\n",
       "0       28.7967   16.0021  2.6449  0.3918  0.1982   27.7004   22.0110   \n",
       "1       31.6036   11.7235  2.5185  0.5303  0.3773   26.2722   23.8238   \n",
       "2      162.0520  136.0310  4.0612  0.0374  0.0187  116.7410  -64.8580   \n",
       "3       23.8172    9.5728  2.3385  0.6147  0.3922   27.2107   -6.4633   \n",
       "4       75.1362   30.9205  3.1611  0.3168  0.1832   -5.5277   28.5525   \n",
       "...         ...       ...     ...     ...     ...       ...       ...   \n",
       "19015   21.3846   10.9170  2.6161  0.5857  0.3934   15.2618   11.5245   \n",
       "19016   28.9452    6.7020  2.2672  0.5351  0.2784   37.0816   13.1853   \n",
       "19017   75.4455   47.5305  3.4483  0.1417  0.0549   -9.3561   41.0562   \n",
       "19018  120.5135   76.9018  3.9939  0.0944  0.0683    5.8043  -93.5224   \n",
       "19019  187.1814   53.0014  3.2093  0.2876  0.1539 -167.3125 -168.4558   \n",
       "\n",
       "       fM3Trans   fAlpha     fDist  class  \n",
       "0       -8.2027  40.0920   81.8828      1  \n",
       "1       -9.9574   6.3609  205.2610      1  \n",
       "2      -45.2160  76.9600  256.7880      1  \n",
       "3       -7.1513  10.4490  116.7370      1  \n",
       "4       21.8393   4.6480  356.4620      1  \n",
       "...         ...      ...       ...    ...  \n",
       "19015    2.8766   2.4229  106.8258      0  \n",
       "19016   -2.9632  86.7975  247.4560      0  \n",
       "19017   -9.4662  30.2987  256.5166      0  \n",
       "19018  -63.8389  84.6874  408.3166      0  \n",
       "19019   31.4755  52.7310  272.3174      0  \n",
       "\n",
       "[19020 rows x 11 columns]"
      ]
     },
     "execution_count": 21,
     "metadata": {},
     "output_type": "execute_result"
    }
   ],
   "source": [
    "df"
   ]
  },
  {
   "cell_type": "markdown",
   "id": "f0a171c1-8069-4c45-8b67-6e569028a640",
   "metadata": {},
   "source": [
    "## Abweichungen zwischen den Partikeln feststellen\n",
    "\n",
    "Ein Histogramm eignet sich hier gut"
   ]
  },
  {
   "cell_type": "code",
   "execution_count": 25,
   "id": "38d5ab58-6b0e-47f0-aca5-98749fcfc10e",
   "metadata": {
    "collapsed": true,
    "jupyter": {
     "outputs_hidden": true
    }
   },
   "outputs": [
    {
     "data": {
      "image/png": "[encoded data removed]",
      "text/plain": [
       "<Figure size 640x480 with 1 Axes>"
      ]
     },
     "metadata": {},
     "output_type": "display_data"
    },
    {
     "data": {
      "image/png": "[encoded data removed]",
      "text/plain": [
       "<Figure size 640x480 with 1 Axes>"
      ]
     },
     "metadata": {},
     "output_type": "display_data"
    },
    {
     "data": {
      "image/png": "[encoded data removed]",
      "text/plain": [
       "<Figure size 640x480 with 1 Axes>"
      ]
     },
     "metadata": {},
     "output_type": "display_data"
    },
    {
     "data": {
      "image/png": "[encoded data removed]",
      "text/plain": [
       "<Figure size 640x480 with 1 Axes>"
      ]
     },
     "metadata": {},
     "output_type": "display_data"
    },
    {
     "data": {
      "image/png": "[encoded data removed]",
      "text/plain": [
       "<Figure size 640x480 with 1 Axes>"
      ]
     },
     "metadata": {},
     "output_type": "display_data"
    },
    {
     "data": {
      "image/png": "[encoded data removed]",
      "text/plain": [
       "<Figure size 640x480 with 1 Axes>"
      ]
     },
     "metadata": {},
     "output_type": "display_data"
    },
    {
     "data": {
      "image/png": "[encoded data removed]",
      "text/plain": [
       "<Figure size 640x480 with 1 Axes>"
      ]
     },
     "metadata": {},
     "output_type": "display_data"
    },
    {
     "data": {
      "image/png": "[encoded data removed]",
      "text/plain": [
       "<Figure size 640x480 with 1 Axes>"
      ]
     },
     "metadata": {},
     "output_type": "display_data"
    },
    {
     "data": {
      "image/png": "[encoded data removed]",
      "text/plain": [
       "<Figure size 640x480 with 1 Axes>"
      ]
     },
     "metadata": {},
     "output_type": "display_data"
    },
    {
     "data": {
      "image/png": "[encoded data removed]",
      "text/plain": [
       "<Figure size 640x480 with 1 Axes>"
      ]
     },
     "metadata": {},
     "output_type": "display_data"
    }
   ],
   "source": [
    "for column in df.columns[:-1]:\n",
    "    plt.hist(df[df[\"class\"]==0][column], color=\"red\", label=\"hadron\", alpha=0.7)\n",
    "    plt.hist(df[df[\"class\"]==1][column], color=\"blue\", label=\"gamma\", alpha=0.7)\n",
    "    plt.title(column)\n",
    "    plt.legend()\n",
    "    plt.show()"
   ]
  },
  {
   "cell_type": "markdown",
   "id": "13b8e524-06af-445b-ab01-fa5e616daa94",
   "metadata": {},
   "source": [
    "## Trainings-, Validierungs-, Testdatensets\n",
    "\n",
    "Wir benötigen für Machine Learning drei Datensets:\n",
    "- Trainingsdaten\n",
    "- Validierungsdaten\n",
    "- Testdaten\n",
    "\n",
    "Dafür können wir das Gesamtset nehmen und aufteilen"
   ]
  },
  {
   "cell_type": "code",
   "execution_count": 27,
   "id": "4fdac58a-eda7-43bd-ad1e-234eaf53e490",
   "metadata": {},
   "outputs": [],
   "source": [
    "training, validierung, test = np.split(df.sample(frac=1), [int(len(df)*0.6), int(len(df)*0.8)])"
   ]
  },
  {
   "cell_type": "code",
   "execution_count": 31,
   "id": "51e0f851-4837-4f5f-bb9d-ea9a8957f870",
   "metadata": {},
   "outputs": [
    {
     "data": {
      "text/plain": [
       "11412"
      ]
     },
     "execution_count": 31,
     "metadata": {},
     "output_type": "execute_result"
    }
   ],
   "source": [
    "len(training)"
   ]
  },
  {
   "cell_type": "code",
   "execution_count": 32,
   "id": "67b645e6-0337-4f27-b1fb-7aee3d1074c3",
   "metadata": {},
   "outputs": [
    {
     "data": {
      "text/plain": [
       "3804"
      ]
     },
     "execution_count": 32,
     "metadata": {},
     "output_type": "execute_result"
    }
   ],
   "source": [
    "len(validierung)"
   ]
  },
  {
   "cell_type": "code",
   "execution_count": 33,
   "id": "06e65168-d1b2-487e-8c4d-b63929707126",
   "metadata": {},
   "outputs": [
    {
     "data": {
      "text/plain": [
       "3804"
      ]
     },
     "execution_count": 33,
     "metadata": {},
     "output_type": "execute_result"
    }
   ],
   "source": [
    "len(test)"
   ]
  },
  {
   "cell_type": "markdown",
   "id": "9a6a9026-5857-44c0-a923-a30625d25f21",
   "metadata": {},
   "source": [
    "## Standardisierung von den Trainingsdaten\n",
    "\n",
    "Wir müssen erstmal unser Datenset standardisieren, nachdem es verstreut ist (Menge der G und H, Outlier bei den Spalten)\n",
    "\n",
    "StandardScaler\n",
    "- \"Glättet\" das Datenset (entfernt Outlier)\n",
    "- Verkleinert große Werte zu kleineren Werten um den Prozess des Lernens zu vereinfachen\n",
    "\n",
    "RandomOverSampler\n",
    "- Generiert Zufallsdaten um eine Ungleichheit der Daten auszugleichen\n",
    "- Algorithmus kann besser lernen wenn die Daten gleichmäßig sind\n",
    "\n",
    "LabelEncoder\n",
    "- Ermöglicht das Umwandeln von Texten in einem Datenset zu numerischen Werten\n",
    "- Machine Learning Algorithmen können nicht mit Texten umgehen\n",
    "  "
   ]
  },
  {
   "cell_type": "code",
   "execution_count": 35,
   "id": "3227d911-6b9c-44ac-b2d4-204ea2ac856d",
   "metadata": {},
   "outputs": [],
   "source": [
    "from sklearn.preprocessing import StandardScaler"
   ]
  },
  {
   "cell_type": "code",
   "execution_count": 36,
   "id": "572c973a-b76b-4d0d-9aa6-dbb54bd497d9",
   "metadata": {},
   "outputs": [],
   "source": [
    "scaler = StandardScaler()"
   ]
  },
  {
   "cell_type": "code",
   "execution_count": 40,
   "id": "7990503a-f5c8-4a56-b51f-6540b4a22c61",
   "metadata": {},
   "outputs": [
    {
     "data": {
      "text/plain": [
       "array([[-0.76473577, -0.60400095, -1.24723236, ..., -0.15652274,\n",
       "         2.33736367, -2.10893917],\n",
       "       [-0.53286387, -0.23317801, -0.05637748, ..., -0.32236448,\n",
       "         1.45815765, -1.97928141],\n",
       "       [ 1.21810703,  0.94122062,  2.21640105, ..., -1.18035456,\n",
       "        -1.016717  ,  1.61414563],\n",
       "       ...,\n",
       "       [-0.94688794, -0.6069649 , -1.38360752, ..., -0.46513509,\n",
       "         1.23762419, -1.26914977],\n",
       "       [-0.67724567, -0.56542103, -0.40913736, ..., -0.30968303,\n",
       "         0.98874371, -0.17841357],\n",
       "       [-0.80293594, -0.71772157, -0.97807087, ..., -0.50765751,\n",
       "         0.15260814, -0.54576677]])"
      ]
     },
     "execution_count": 40,
     "metadata": {},
     "output_type": "execute_result"
    }
   ],
   "source": [
    "dataToScale = training[training.columns[:-1]].values\n",
    "dataToScale  # Vor Skalierung\n",
    "dataToScale = scaler.fit_transform(dataToScale)\n",
    "dataToScale  # Nach Skalierung"
   ]
  },
  {
   "cell_type": "markdown",
   "id": "ae26704a-fb2e-478f-ae26-3db4eaeb15f0",
   "metadata": {},
   "source": [
    "Die Menge der Daten ist uneben"
   ]
  },
  {
   "cell_type": "code",
   "execution_count": 42,
   "id": "51e0a5de-48b5-43a7-b19b-5abe91dc7ce4",
   "metadata": {},
   "outputs": [
    {
     "data": {
      "text/plain": [
       "7398"
      ]
     },
     "execution_count": 42,
     "metadata": {},
     "output_type": "execute_result"
    }
   ],
   "source": [
    "len(training[training[\"class\"] == 1])"
   ]
  },
  {
   "cell_type": "code",
   "execution_count": 43,
   "id": "0f021a62-2247-4330-838d-b0149a0ee0b0",
   "metadata": {},
   "outputs": [
    {
     "data": {
      "text/plain": [
       "4014"
      ]
     },
     "execution_count": 43,
     "metadata": {},
     "output_type": "execute_result"
    }
   ],
   "source": [
    "len(training[training[\"class\"] == 0])"
   ]
  },
  {
   "cell_type": "code",
   "execution_count": 45,
   "id": "b9cb5a82-6167-45c1-bb9d-be46a3095e45",
   "metadata": {},
   "outputs": [],
   "source": [
    "from imblearn.over_sampling import RandomOverSampler"
   ]
  },
  {
   "cell_type": "code",
   "execution_count": 46,
   "id": "68698d3c-e81c-4f2c-93b2-b84751a8f1ee",
   "metadata": {},
   "outputs": [],
   "source": [
    "sampler = RandomOverSampler()"
   ]
  },
  {
   "cell_type": "code",
   "execution_count": 47,
   "id": "b8ef2b90-5baa-4b53-9996-940b8b4638c9",
   "metadata": {},
   "outputs": [],
   "source": [
    "x, y = sampler.fit_resample(dataToScale, training[training.columns[-1]])"
   ]
  },
  {
   "cell_type": "code",
   "execution_count": 56,
   "id": "a9b500cf-3b3b-454d-9ca1-619fcebcc9af",
   "metadata": {},
   "outputs": [],
   "source": [
    "data = np.hstack((x, np.array(y).reshape(-1, 1)))"
   ]
  },
  {
   "cell_type": "code",
   "execution_count": 57,
   "id": "e55dd5a6-db38-4805-b510-771fdb1c0851",
   "metadata": {},
   "outputs": [
    {
     "data": {
      "text/plain": [
       "array([[-0.76473577, -0.60400095, -1.24723236, ...,  2.33736367,\n",
       "        -2.10893917,  1.        ],\n",
       "       [-0.53286387, -0.23317801, -0.05637748, ...,  1.45815765,\n",
       "        -1.97928141,  1.        ],\n",
       "       [ 1.21810703,  0.94122062,  2.21640105, ..., -1.016717  ,\n",
       "         1.61414563,  1.        ],\n",
       "       ...,\n",
       "       [ 1.7048191 ,  3.48851608,  1.09774478, ...,  2.31982354,\n",
       "         0.73289047,  0.        ],\n",
       "       [-0.04277008, -0.24950942, -0.47774716, ..., -0.06970347,\n",
       "        -1.58362302,  0.        ],\n",
       "       [ 0.17574499,  0.68492272,  0.46949019, ..., -1.03839977,\n",
       "         1.28922349,  0.        ]])"
      ]
     },
     "execution_count": 57,
     "metadata": {},
     "output_type": "execute_result"
    }
   ],
   "source": [
    "data"
   ]
  },
  {
   "cell_type": "code",
   "execution_count": 64,
   "id": "b02edf7a-a691-4dba-bc9f-ae1cd977899d",
   "metadata": {},
   "outputs": [
    {
     "data": {
      "text/plain": [
       "7398"
      ]
     },
     "execution_count": 64,
     "metadata": {},
     "output_type": "execute_result"
    }
   ],
   "source": [
    "len(data[data[:, -1] == 0])"
   ]
  },
  {
   "cell_type": "code",
   "execution_count": 65,
   "id": "7e2603a4-dc9f-4165-8007-7cddf9a20afe",
   "metadata": {},
   "outputs": [
    {
     "data": {
      "text/plain": [
       "7398"
      ]
     },
     "execution_count": 65,
     "metadata": {},
     "output_type": "execute_result"
    }
   ],
   "source": [
    "len(data[data[:, -1] == 1])"
   ]
  },
  {
   "cell_type": "markdown",
   "id": "b4a715fa-a611-41b4-a042-48e159a7cab6",
   "metadata": {},
   "source": [
    "Es macht Sinn hier jetzt eine Funktion anzulegen um unsere Teildatensets zu skalieren"
   ]
  },
  {
   "cell_type": "code",
   "execution_count": 61,
   "id": "aa38686a-91eb-4995-bad4-1603230d2e64",
   "metadata": {},
   "outputs": [],
   "source": [
    "def scale_dataset(data, oversample=False):\n",
    "    left = data[data.columns[:-1]].values\n",
    "    right  = data[data.columns[-1]].values\n",
    "\n",
    "    scaler = StandardScaler()\n",
    "    left = scaler.fit_transform(left)\n",
    "\n",
    "    if oversample:\n",
    "        sampler = RandomOverSampler()\n",
    "        left, right = sampler.fit_resample(left, right)\n",
    "\n",
    "    data = np.hstack((left, np.array(right).reshape(-1, 1)))\n",
    "    return data, left, right"
   ]
  },
  {
   "cell_type": "code",
   "execution_count": 66,
   "id": "7aebfcaf-8b6e-465d-a0fa-8ce321c3ef6e",
   "metadata": {},
   "outputs": [],
   "source": [
    "training, left_train, right_train = scale_dataset(training, True)\n",
    "validierung, left_valid, right_valid = scale_dataset(validierung, False)\n",
    "test, left_test, right_test = scale_dataset(test, False)"
   ]
  },
  {
   "cell_type": "markdown",
   "id": "13fb45db-9d7d-4efa-83a5-0bcd997973ea",
   "metadata": {},
   "source": [
    "## Verschiedene Modelle"
   ]
  },
  {
   "cell_type": "markdown",
   "id": "7dee9966-cfcb-4b8d-a040-e20b00c47cf0",
   "metadata": {},
   "source": [
    "kNN (k-nearest neighbors):\n",
    "- Beispiel: Anz. Kinder, hat X/hat nicht X\n",
    "- Punkte werden auf einem Koordinatensystem\n",
    "- Jeder Punkt hat eine Position\n",
    "- Unbekannte Punkte sollen jetzt klassifiziert werden\n",
    "- Bekannte Punkte haben bereits eine Klassifikation und stellen dadurch die Nachbarn dar\n",
    "- Bei Unbekannten Punkten können wir die Distanz zu den Nachbarn messen und dadurch den Punkt klassifizieren\n",
    "- K-Wert: Anzahl der benötigten Nachbarn, muss ungerade sein (3, 5, 7, ...)\n",
    "- Mehrere Dimensionen möglich"
   ]
  },
  {
   "cell_type": "code",
   "execution_count": 67,
   "id": "db9fc36c-a4f5-4065-b472-10b268d00ae3",
   "metadata": {},
   "outputs": [],
   "source": [
    "from sklearn.neighbors import KNeighborsClassifier"
   ]
  },
  {
   "cell_type": "code",
   "execution_count": 68,
   "id": "c09c0f38-c8c7-441a-95dc-18bd5f3d5024",
   "metadata": {},
   "outputs": [],
   "source": [
    "knn_model = KNeighborsClassifier(n_neighbors=5)"
   ]
  },
  {
   "cell_type": "code",
   "execution_count": 72,
   "id": "4fd2c6c6-1813-42b4-a9dc-4756d31e05df",
   "metadata": {},
   "outputs": [
    {
     "data": {
      "text/html": [
       "<style>#sk-container-id-2 {color: black;}#sk-container-id-2 pre{padding: 0;}#sk-container-id-2 div.sk-toggleable {background-color: white;}#sk-container-id-2 label.sk-toggleable__label {cursor: pointer;display: block;width: 100%;margin-bottom: 0;padding: 0.3em;box-sizing: border-box;text-align: center;}#sk-container-id-2 label.sk-toggleable__label-arrow:before {content: \"▸\";float: left;margin-right: 0.25em;color: #696969;}#sk-container-id-2 label.sk-toggleable__label-arrow:hover:before {color: black;}#sk-container-id-2 div.sk-estimator:hover label.sk-toggleable__label-arrow:before {color: black;}#sk-container-id-2 div.sk-toggleable__content {max-height: 0;max-width: 0;overflow: hidden;text-align: left;background-color: #f0f8ff;}#sk-container-id-2 div.sk-toggleable__content pre {margin: 0.2em;color: black;border-radius: 0.25em;background-color: #f0f8ff;}#sk-container-id-2 input.sk-toggleable__control:checked~div.sk-toggleable__content {max-height: 200px;max-width: 100%;overflow: auto;}#sk-container-id-2 input.sk-toggleable__control:checked~label.sk-toggleable__label-arrow:before {content: \"▾\";}#sk-container-id-2 div.sk-estimator input.sk-toggleable__control:checked~label.sk-toggleable__label {background-color: #d4ebff;}#sk-container-id-2 div.sk-label input.sk-toggleable__control:checked~label.sk-toggleable__label {background-color: #d4ebff;}#sk-container-id-2 input.sk-hidden--visually {border: 0;clip: rect(1px 1px 1px 1px);clip: rect(1px, 1px, 1px, 1px);height: 1px;margin: -1px;overflow: hidden;padding: 0;position: absolute;width: 1px;}#sk-container-id-2 div.sk-estimator {font-family: monospace;background-color: #f0f8ff;border: 1px dotted black;border-radius: 0.25em;box-sizing: border-box;margin-bottom: 0.5em;}#sk-container-id-2 div.sk-estimator:hover {background-color: #d4ebff;}#sk-container-id-2 div.sk-parallel-item::after {content: \"\";width: 100%;border-bottom: 1px solid gray;flex-grow: 1;}#sk-container-id-2 div.sk-label:hover label.sk-toggleable__label {background-color: #d4ebff;}#sk-container-id-2 div.sk-serial::before {content: \"\";position: absolute;border-left: 1px solid gray;box-sizing: border-box;top: 0;bottom: 0;left: 50%;z-index: 0;}#sk-container-id-2 div.sk-serial {display: flex;flex-direction: column;align-items: center;background-color: white;padding-right: 0.2em;padding-left: 0.2em;position: relative;}#sk-container-id-2 div.sk-item {position: relative;z-index: 1;}#sk-container-id-2 div.sk-parallel {display: flex;align-items: stretch;justify-content: center;background-color: white;position: relative;}#sk-container-id-2 div.sk-item::before, #sk-container-id-2 div.sk-parallel-item::before {content: \"\";position: absolute;border-left: 1px solid gray;box-sizing: border-box;top: 0;bottom: 0;left: 50%;z-index: -1;}#sk-container-id-2 div.sk-parallel-item {display: flex;flex-direction: column;z-index: 1;position: relative;background-color: white;}#sk-container-id-2 div.sk-parallel-item:first-child::after {align-self: flex-end;width: 50%;}#sk-container-id-2 div.sk-parallel-item:last-child::after {align-self: flex-start;width: 50%;}#sk-container-id-2 div.sk-parallel-item:only-child::after {width: 0;}#sk-container-id-2 div.sk-dashed-wrapped {border: 1px dashed gray;margin: 0 0.4em 0.5em 0.4em;box-sizing: border-box;padding-bottom: 0.4em;background-color: white;}#sk-container-id-2 div.sk-label label {font-family: monospace;font-weight: bold;display: inline-block;line-height: 1.2em;}#sk-container-id-2 div.sk-label-container {text-align: center;}#sk-container-id-2 div.sk-container {/* jupyter's `normalize.less` sets `[hidden] { display: none; }` but bootstrap.min.css set `[hidden] { display: none !important; }` so we also need the `!important` here to be able to override the default hidden behavior on the sphinx rendered scikit-learn.org. See: https://github.com/scikit-learn/scikit-learn/issues/21755 */display: inline-block !important;position: relative;}#sk-container-id-2 div.sk-text-repr-fallback {display: none;}</style><div id=\"sk-container-id-2\" class=\"sk-top-container\"><div class=\"sk-text-repr-fallback\"><pre>KNeighborsClassifier()</pre><b>In a Jupyter environment, please rerun this cell to show the HTML representation or trust the notebook. <br />On GitHub, the HTML representation is unable to render, please try loading this page with nbviewer.org.</b></div><div class=\"sk-container\" hidden><div class=\"sk-item\"><div class=\"sk-estimator sk-toggleable\"><input class=\"sk-toggleable__control sk-hidden--visually\" id=\"sk-estimator-id-2\" type=\"checkbox\" checked><label for=\"sk-estimator-id-2\" class=\"sk-toggleable__label sk-toggleable__label-arrow\">KNeighborsClassifier</label><div class=\"sk-toggleable__content\"><pre>KNeighborsClassifier()</pre></div></div></div></div></div>"
      ],
      "text/plain": [
       "KNeighborsClassifier()"
      ]
     },
     "execution_count": 72,
     "metadata": {},
     "output_type": "execute_result"
    }
   ],
   "source": [
    "knn_model.fit(left_train, right_train)  # left_train und right_train auf das Modell anpassen, Daten ohne Class und Daten mit Class separat"
   ]
  },
  {
   "cell_type": "code",
   "execution_count": 71,
   "id": "5ad60c2d-28ef-4144-a267-6a4d0e56488c",
   "metadata": {},
   "outputs": [],
   "source": [
    "right_pred = knn_model.predict(left_test)"
   ]
  },
  {
   "cell_type": "code",
   "execution_count": 74,
   "id": "2649f99e-dffd-4e6a-bc28-07652193a555",
   "metadata": {},
   "outputs": [
    {
     "name": "stdout",
     "output_type": "stream",
     "text": [
      "              precision    recall  f1-score   support\n",
      "\n",
      "           0       0.74      0.72      0.73      1335\n",
      "           1       0.85      0.86      0.86      2469\n",
      "\n",
      "    accuracy                           0.81      3804\n",
      "   macro avg       0.79      0.79      0.79      3804\n",
      "weighted avg       0.81      0.81      0.81      3804\n",
      "\n"
     ]
    }
   ],
   "source": [
    "from sklearn.metrics import classification_report\n",
    "print(classification_report(right_test, right_pred))\n",
    "# Precision, Recall: Menge der Korrekten/Inkorrenten Punkte\n",
    "# f1-Score: Kombination von den beiden obigen Werten\n",
    "# Accuracy: Genauigkeit des Modells"
   ]
  },
  {
   "cell_type": "markdown",
   "id": "6c918f8f-ce87-4035-956e-f1235834f4dd",
   "metadata": {},
   "source": [
    "Genauigkeit per Hand prüfen"
   ]
  },
  {
   "cell_type": "code",
   "execution_count": 76,
   "id": "365e733f-9680-4133-82c6-9e126afa4c46",
   "metadata": {},
   "outputs": [],
   "source": [
    "def showPrediction(left_test, right_test, right_pred):\n",
    "    data = pd.DataFrame(left_test)\n",
    "    data[\"Actual\"] = right_test\n",
    "    data[\"Prediction\"] = right_pred\n",
    "    return data"
   ]
  },
  {
   "cell_type": "code",
   "execution_count": 78,
   "id": "228dffeb-35e7-4129-82ae-a311e0b9685a",
   "metadata": {},
   "outputs": [],
   "source": [
    "accuracy = showPrediction(left_test, right_test, right_pred)"
   ]
  },
  {
   "cell_type": "code",
   "execution_count": 86,
   "id": "510400c8-e01c-4903-b64f-701c278f297f",
   "metadata": {},
   "outputs": [],
   "source": [
    "eval = (accuracy[\"Actual\"] == accuracy[\"Prediction\"]).value_counts()"
   ]
  },
  {
   "cell_type": "code",
   "execution_count": 87,
   "id": "5f557a5a-5664-49be-800e-21cf4904433e",
   "metadata": {},
   "outputs": [
    {
     "data": {
      "text/plain": [
       "0.8123028391167192"
      ]
     },
     "execution_count": 87,
     "metadata": {},
     "output_type": "execute_result"
    }
   ],
   "source": [
    "eval[0] / len(accuracy)"
   ]
  },
  {
   "cell_type": "code",
   "execution_count": 88,
   "id": "048251f4-62fe-4088-a2f4-3599127a6127",
   "metadata": {},
   "outputs": [
    {
     "data": {
      "text/plain": [
       "0.18769716088328076"
      ]
     },
     "execution_count": 88,
     "metadata": {},
     "output_type": "execute_result"
    }
   ],
   "source": [
    "eval[1] / len(accuracy)"
   ]
  },
  {
   "cell_type": "markdown",
   "id": "34db68ef-6827-4ee4-83cf-2ee6c0c3d1df",
   "metadata": {},
   "source": [
    "## Naive Bayes\n",
    "- Klassifizierung findet über Wahrscheinlichkeiten statt\n",
    "- Bei jeder Zeile wird eine Wahrscheinlichkeit für Ja/Nein festgelegt\n",
    "- Wenn die Wahrscheinlichkeit von einem neuen Datensatz 50% überschreitet ist es ein Ja, sonst Nein"
   ]
  },
  {
   "cell_type": "code",
   "execution_count": 89,
   "id": "be967b8e-3ea0-46c2-bfbf-0cbb07300956",
   "metadata": {},
   "outputs": [],
   "source": [
    "from sklearn.naive_bayes import GaussianNB"
   ]
  },
  {
   "cell_type": "code",
   "execution_count": 90,
   "id": "e2693200-f4db-4e50-9f6c-692456b16f76",
   "metadata": {},
   "outputs": [],
   "source": [
    "nb_model = GaussianNB()"
   ]
  },
  {
   "cell_type": "code",
   "execution_count": 91,
   "id": "61683fcc-dd31-4bfd-99ff-7f94674c66f3",
   "metadata": {},
   "outputs": [
    {
     "data": {
      "text/html": [
       "<style>#sk-container-id-3 {color: black;}#sk-container-id-3 pre{padding: 0;}#sk-container-id-3 div.sk-toggleable {background-color: white;}#sk-container-id-3 label.sk-toggleable__label {cursor: pointer;display: block;width: 100%;margin-bottom: 0;padding: 0.3em;box-sizing: border-box;text-align: center;}#sk-container-id-3 label.sk-toggleable__label-arrow:before {content: \"▸\";float: left;margin-right: 0.25em;color: #696969;}#sk-container-id-3 label.sk-toggleable__label-arrow:hover:before {color: black;}#sk-container-id-3 div.sk-estimator:hover label.sk-toggleable__label-arrow:before {color: black;}#sk-container-id-3 div.sk-toggleable__content {max-height: 0;max-width: 0;overflow: hidden;text-align: left;background-color: #f0f8ff;}#sk-container-id-3 div.sk-toggleable__content pre {margin: 0.2em;color: black;border-radius: 0.25em;background-color: #f0f8ff;}#sk-container-id-3 input.sk-toggleable__control:checked~div.sk-toggleable__content {max-height: 200px;max-width: 100%;overflow: auto;}#sk-container-id-3 input.sk-toggleable__control:checked~label.sk-toggleable__label-arrow:before {content: \"▾\";}#sk-container-id-3 div.sk-estimator input.sk-toggleable__control:checked~label.sk-toggleable__label {background-color: #d4ebff;}#sk-container-id-3 div.sk-label input.sk-toggleable__control:checked~label.sk-toggleable__label {background-color: #d4ebff;}#sk-container-id-3 input.sk-hidden--visually {border: 0;clip: rect(1px 1px 1px 1px);clip: rect(1px, 1px, 1px, 1px);height: 1px;margin: -1px;overflow: hidden;padding: 0;position: absolute;width: 1px;}#sk-container-id-3 div.sk-estimator {font-family: monospace;background-color: #f0f8ff;border: 1px dotted black;border-radius: 0.25em;box-sizing: border-box;margin-bottom: 0.5em;}#sk-container-id-3 div.sk-estimator:hover {background-color: #d4ebff;}#sk-container-id-3 div.sk-parallel-item::after {content: \"\";width: 100%;border-bottom: 1px solid gray;flex-grow: 1;}#sk-container-id-3 div.sk-label:hover label.sk-toggleable__label {background-color: #d4ebff;}#sk-container-id-3 div.sk-serial::before {content: \"\";position: absolute;border-left: 1px solid gray;box-sizing: border-box;top: 0;bottom: 0;left: 50%;z-index: 0;}#sk-container-id-3 div.sk-serial {display: flex;flex-direction: column;align-items: center;background-color: white;padding-right: 0.2em;padding-left: 0.2em;position: relative;}#sk-container-id-3 div.sk-item {position: relative;z-index: 1;}#sk-container-id-3 div.sk-parallel {display: flex;align-items: stretch;justify-content: center;background-color: white;position: relative;}#sk-container-id-3 div.sk-item::before, #sk-container-id-3 div.sk-parallel-item::before {content: \"\";position: absolute;border-left: 1px solid gray;box-sizing: border-box;top: 0;bottom: 0;left: 50%;z-index: -1;}#sk-container-id-3 div.sk-parallel-item {display: flex;flex-direction: column;z-index: 1;position: relative;background-color: white;}#sk-container-id-3 div.sk-parallel-item:first-child::after {align-self: flex-end;width: 50%;}#sk-container-id-3 div.sk-parallel-item:last-child::after {align-self: flex-start;width: 50%;}#sk-container-id-3 div.sk-parallel-item:only-child::after {width: 0;}#sk-container-id-3 div.sk-dashed-wrapped {border: 1px dashed gray;margin: 0 0.4em 0.5em 0.4em;box-sizing: border-box;padding-bottom: 0.4em;background-color: white;}#sk-container-id-3 div.sk-label label {font-family: monospace;font-weight: bold;display: inline-block;line-height: 1.2em;}#sk-container-id-3 div.sk-label-container {text-align: center;}#sk-container-id-3 div.sk-container {/* jupyter's `normalize.less` sets `[hidden] { display: none; }` but bootstrap.min.css set `[hidden] { display: none !important; }` so we also need the `!important` here to be able to override the default hidden behavior on the sphinx rendered scikit-learn.org. See: https://github.com/scikit-learn/scikit-learn/issues/21755 */display: inline-block !important;position: relative;}#sk-container-id-3 div.sk-text-repr-fallback {display: none;}</style><div id=\"sk-container-id-3\" class=\"sk-top-container\"><div class=\"sk-text-repr-fallback\"><pre>GaussianNB()</pre><b>In a Jupyter environment, please rerun this cell to show the HTML representation or trust the notebook. <br />On GitHub, the HTML representation is unable to render, please try loading this page with nbviewer.org.</b></div><div class=\"sk-container\" hidden><div class=\"sk-item\"><div class=\"sk-estimator sk-toggleable\"><input class=\"sk-toggleable__control sk-hidden--visually\" id=\"sk-estimator-id-3\" type=\"checkbox\" checked><label for=\"sk-estimator-id-3\" class=\"sk-toggleable__label sk-toggleable__label-arrow\">GaussianNB</label><div class=\"sk-toggleable__content\"><pre>GaussianNB()</pre></div></div></div></div></div>"
      ],
      "text/plain": [
       "GaussianNB()"
      ]
     },
     "execution_count": 91,
     "metadata": {},
     "output_type": "execute_result"
    }
   ],
   "source": [
    "nb_model.fit(left_train, right_train)"
   ]
  },
  {
   "cell_type": "code",
   "execution_count": 92,
   "id": "5b35cb16-78b5-48de-ac18-0be6d9d0a3c9",
   "metadata": {},
   "outputs": [],
   "source": [
    "right_pred = nb_model.predict(left_test)"
   ]
  },
  {
   "cell_type": "code",
   "execution_count": 95,
   "id": "da7cb5bf-b0ee-4103-9ec7-23957681d9bf",
   "metadata": {},
   "outputs": [
    {
     "name": "stdout",
     "output_type": "stream",
     "text": [
      "              precision    recall  f1-score   support\n",
      "\n",
      "           0       0.67      0.38      0.49      1335\n",
      "           1       0.73      0.90      0.81      2469\n",
      "\n",
      "    accuracy                           0.72      3804\n",
      "   macro avg       0.70      0.64      0.65      3804\n",
      "weighted avg       0.71      0.72      0.69      3804\n",
      "\n"
     ]
    }
   ],
   "source": [
    "print(classification_report(right_test, right_pred))\n",
    "# Schneller als kNN bei großen Datensets"
   ]
  },
  {
   "cell_type": "markdown",
   "id": "06e11d2e-b582-42cc-b373-14b5b1f727a0",
   "metadata": {},
   "source": [
    "## Logistische Regression\n",
    "\n",
    "Die Datenpunkte werden anhand von Wahrscheinlichkeiten auf einer bestimmten Höhe positioniert.\n",
    "\n",
    "Wenn ein Datenpunkt über einem Schwellwert ist, wird dieser als X Klasifiziert, sonst Y"
   ]
  },
  {
   "cell_type": "code",
   "execution_count": 96,
   "id": "645e23b2-3fd8-48e7-bee7-01d5089d2bf8",
   "metadata": {},
   "outputs": [],
   "source": [
    "from sklearn.linear_model import LogisticRegression"
   ]
  },
  {
   "cell_type": "code",
   "execution_count": 97,
   "id": "6944cd92-10f6-40b2-b0c1-70a2b5a3ec18",
   "metadata": {},
   "outputs": [
    {
     "data": {
      "text/html": [
       "<style>#sk-container-id-4 {color: black;}#sk-container-id-4 pre{padding: 0;}#sk-container-id-4 div.sk-toggleable {background-color: white;}#sk-container-id-4 label.sk-toggleable__label {cursor: pointer;display: block;width: 100%;margin-bottom: 0;padding: 0.3em;box-sizing: border-box;text-align: center;}#sk-container-id-4 label.sk-toggleable__label-arrow:before {content: \"▸\";float: left;margin-right: 0.25em;color: #696969;}#sk-container-id-4 label.sk-toggleable__label-arrow:hover:before {color: black;}#sk-container-id-4 div.sk-estimator:hover label.sk-toggleable__label-arrow:before {color: black;}#sk-container-id-4 div.sk-toggleable__content {max-height: 0;max-width: 0;overflow: hidden;text-align: left;background-color: #f0f8ff;}#sk-container-id-4 div.sk-toggleable__content pre {margin: 0.2em;color: black;border-radius: 0.25em;background-color: #f0f8ff;}#sk-container-id-4 input.sk-toggleable__control:checked~div.sk-toggleable__content {max-height: 200px;max-width: 100%;overflow: auto;}#sk-container-id-4 input.sk-toggleable__control:checked~label.sk-toggleable__label-arrow:before {content: \"▾\";}#sk-container-id-4 div.sk-estimator input.sk-toggleable__control:checked~label.sk-toggleable__label {background-color: #d4ebff;}#sk-container-id-4 div.sk-label input.sk-toggleable__control:checked~label.sk-toggleable__label {background-color: #d4ebff;}#sk-container-id-4 input.sk-hidden--visually {border: 0;clip: rect(1px 1px 1px 1px);clip: rect(1px, 1px, 1px, 1px);height: 1px;margin: -1px;overflow: hidden;padding: 0;position: absolute;width: 1px;}#sk-container-id-4 div.sk-estimator {font-family: monospace;background-color: #f0f8ff;border: 1px dotted black;border-radius: 0.25em;box-sizing: border-box;margin-bottom: 0.5em;}#sk-container-id-4 div.sk-estimator:hover {background-color: #d4ebff;}#sk-container-id-4 div.sk-parallel-item::after {content: \"\";width: 100%;border-bottom: 1px solid gray;flex-grow: 1;}#sk-container-id-4 div.sk-label:hover label.sk-toggleable__label {background-color: #d4ebff;}#sk-container-id-4 div.sk-serial::before {content: \"\";position: absolute;border-left: 1px solid gray;box-sizing: border-box;top: 0;bottom: 0;left: 50%;z-index: 0;}#sk-container-id-4 div.sk-serial {display: flex;flex-direction: column;align-items: center;background-color: white;padding-right: 0.2em;padding-left: 0.2em;position: relative;}#sk-container-id-4 div.sk-item {position: relative;z-index: 1;}#sk-container-id-4 div.sk-parallel {display: flex;align-items: stretch;justify-content: center;background-color: white;position: relative;}#sk-container-id-4 div.sk-item::before, #sk-container-id-4 div.sk-parallel-item::before {content: \"\";position: absolute;border-left: 1px solid gray;box-sizing: border-box;top: 0;bottom: 0;left: 50%;z-index: -1;}#sk-container-id-4 div.sk-parallel-item {display: flex;flex-direction: column;z-index: 1;position: relative;background-color: white;}#sk-container-id-4 div.sk-parallel-item:first-child::after {align-self: flex-end;width: 50%;}#sk-container-id-4 div.sk-parallel-item:last-child::after {align-self: flex-start;width: 50%;}#sk-container-id-4 div.sk-parallel-item:only-child::after {width: 0;}#sk-container-id-4 div.sk-dashed-wrapped {border: 1px dashed gray;margin: 0 0.4em 0.5em 0.4em;box-sizing: border-box;padding-bottom: 0.4em;background-color: white;}#sk-container-id-4 div.sk-label label {font-family: monospace;font-weight: bold;display: inline-block;line-height: 1.2em;}#sk-container-id-4 div.sk-label-container {text-align: center;}#sk-container-id-4 div.sk-container {/* jupyter's `normalize.less` sets `[hidden] { display: none; }` but bootstrap.min.css set `[hidden] { display: none !important; }` so we also need the `!important` here to be able to override the default hidden behavior on the sphinx rendered scikit-learn.org. See: https://github.com/scikit-learn/scikit-learn/issues/21755 */display: inline-block !important;position: relative;}#sk-container-id-4 div.sk-text-repr-fallback {display: none;}</style><div id=\"sk-container-id-4\" class=\"sk-top-container\"><div class=\"sk-text-repr-fallback\"><pre>LogisticRegression()</pre><b>In a Jupyter environment, please rerun this cell to show the HTML representation or trust the notebook. <br />On GitHub, the HTML representation is unable to render, please try loading this page with nbviewer.org.</b></div><div class=\"sk-container\" hidden><div class=\"sk-item\"><div class=\"sk-estimator sk-toggleable\"><input class=\"sk-toggleable__control sk-hidden--visually\" id=\"sk-estimator-id-4\" type=\"checkbox\" checked><label for=\"sk-estimator-id-4\" class=\"sk-toggleable__label sk-toggleable__label-arrow\">LogisticRegression</label><div class=\"sk-toggleable__content\"><pre>LogisticRegression()</pre></div></div></div></div></div>"
      ],
      "text/plain": [
       "LogisticRegression()"
      ]
     },
     "execution_count": 97,
     "metadata": {},
     "output_type": "execute_result"
    }
   ],
   "source": [
    "lr_model = LogisticRegression()\n",
    "lr_model.fit(left_train, right_train)"
   ]
  },
  {
   "cell_type": "code",
   "execution_count": 99,
   "id": "57b26b38-71f0-4936-a6fa-34a2b48898bf",
   "metadata": {},
   "outputs": [],
   "source": [
    "right_pred = lr_model.predict(left_test)"
   ]
  },
  {
   "cell_type": "code",
   "execution_count": 100,
   "id": "16fdd795-f6bc-4a8a-af64-75f8ece50ae0",
   "metadata": {},
   "outputs": [
    {
     "name": "stdout",
     "output_type": "stream",
     "text": [
      "              precision    recall  f1-score   support\n",
      "\n",
      "           0       0.68      0.71      0.70      1335\n",
      "           1       0.84      0.82      0.83      2469\n",
      "\n",
      "    accuracy                           0.78      3804\n",
      "   macro avg       0.76      0.77      0.76      3804\n",
      "weighted avg       0.78      0.78      0.78      3804\n",
      "\n"
     ]
    }
   ],
   "source": [
    "print(classification_report(right_test, right_pred))"
   ]
  },
  {
   "cell_type": "markdown",
   "id": "9a9fbb24-40df-43d1-ba99-8982c16801a1",
   "metadata": {},
   "source": [
    "## Support Vector Machines\n",
    "\n",
    "Platziert den Vektor möglichst weit weg zwischen den Datenpunkten und breitet dann ein Margin aus\n",
    "\n",
    "Alle Datenpunkte auf einer Seite werden mit X Klassifiziert, alle anderen Datenpunkte mit Y\n",
    "\n",
    "Danach wird dieser Prozess wiederholt"
   ]
  },
  {
   "cell_type": "code",
   "execution_count": 102,
   "id": "20450356-61d1-4c1c-8152-fececbc9f637",
   "metadata": {},
   "outputs": [],
   "source": [
    "from sklearn.svm import SVC"
   ]
  },
  {
   "cell_type": "code",
   "execution_count": 103,
   "id": "1c740eaf-da82-4352-963b-4cda705a6237",
   "metadata": {},
   "outputs": [],
   "source": [
    "svm_model = SVC()"
   ]
  },
  {
   "cell_type": "code",
   "execution_count": 104,
   "id": "00b3fbc5-c906-4d84-b149-b5c7b5eb6c9d",
   "metadata": {},
   "outputs": [
    {
     "data": {
      "text/html": [
       "<style>#sk-container-id-5 {color: black;}#sk-container-id-5 pre{padding: 0;}#sk-container-id-5 div.sk-toggleable {background-color: white;}#sk-container-id-5 label.sk-toggleable__label {cursor: pointer;display: block;width: 100%;margin-bottom: 0;padding: 0.3em;box-sizing: border-box;text-align: center;}#sk-container-id-5 label.sk-toggleable__label-arrow:before {content: \"▸\";float: left;margin-right: 0.25em;color: #696969;}#sk-container-id-5 label.sk-toggleable__label-arrow:hover:before {color: black;}#sk-container-id-5 div.sk-estimator:hover label.sk-toggleable__label-arrow:before {color: black;}#sk-container-id-5 div.sk-toggleable__content {max-height: 0;max-width: 0;overflow: hidden;text-align: left;background-color: #f0f8ff;}#sk-container-id-5 div.sk-toggleable__content pre {margin: 0.2em;color: black;border-radius: 0.25em;background-color: #f0f8ff;}#sk-container-id-5 input.sk-toggleable__control:checked~div.sk-toggleable__content {max-height: 200px;max-width: 100%;overflow: auto;}#sk-container-id-5 input.sk-toggleable__control:checked~label.sk-toggleable__label-arrow:before {content: \"▾\";}#sk-container-id-5 div.sk-estimator input.sk-toggleable__control:checked~label.sk-toggleable__label {background-color: #d4ebff;}#sk-container-id-5 div.sk-label input.sk-toggleable__control:checked~label.sk-toggleable__label {background-color: #d4ebff;}#sk-container-id-5 input.sk-hidden--visually {border: 0;clip: rect(1px 1px 1px 1px);clip: rect(1px, 1px, 1px, 1px);height: 1px;margin: -1px;overflow: hidden;padding: 0;position: absolute;width: 1px;}#sk-container-id-5 div.sk-estimator {font-family: monospace;background-color: #f0f8ff;border: 1px dotted black;border-radius: 0.25em;box-sizing: border-box;margin-bottom: 0.5em;}#sk-container-id-5 div.sk-estimator:hover {background-color: #d4ebff;}#sk-container-id-5 div.sk-parallel-item::after {content: \"\";width: 100%;border-bottom: 1px solid gray;flex-grow: 1;}#sk-container-id-5 div.sk-label:hover label.sk-toggleable__label {background-color: #d4ebff;}#sk-container-id-5 div.sk-serial::before {content: \"\";position: absolute;border-left: 1px solid gray;box-sizing: border-box;top: 0;bottom: 0;left: 50%;z-index: 0;}#sk-container-id-5 div.sk-serial {display: flex;flex-direction: column;align-items: center;background-color: white;padding-right: 0.2em;padding-left: 0.2em;position: relative;}#sk-container-id-5 div.sk-item {position: relative;z-index: 1;}#sk-container-id-5 div.sk-parallel {display: flex;align-items: stretch;justify-content: center;background-color: white;position: relative;}#sk-container-id-5 div.sk-item::before, #sk-container-id-5 div.sk-parallel-item::before {content: \"\";position: absolute;border-left: 1px solid gray;box-sizing: border-box;top: 0;bottom: 0;left: 50%;z-index: -1;}#sk-container-id-5 div.sk-parallel-item {display: flex;flex-direction: column;z-index: 1;position: relative;background-color: white;}#sk-container-id-5 div.sk-parallel-item:first-child::after {align-self: flex-end;width: 50%;}#sk-container-id-5 div.sk-parallel-item:last-child::after {align-self: flex-start;width: 50%;}#sk-container-id-5 div.sk-parallel-item:only-child::after {width: 0;}#sk-container-id-5 div.sk-dashed-wrapped {border: 1px dashed gray;margin: 0 0.4em 0.5em 0.4em;box-sizing: border-box;padding-bottom: 0.4em;background-color: white;}#sk-container-id-5 div.sk-label label {font-family: monospace;font-weight: bold;display: inline-block;line-height: 1.2em;}#sk-container-id-5 div.sk-label-container {text-align: center;}#sk-container-id-5 div.sk-container {/* jupyter's `normalize.less` sets `[hidden] { display: none; }` but bootstrap.min.css set `[hidden] { display: none !important; }` so we also need the `!important` here to be able to override the default hidden behavior on the sphinx rendered scikit-learn.org. See: https://github.com/scikit-learn/scikit-learn/issues/21755 */display: inline-block !important;position: relative;}#sk-container-id-5 div.sk-text-repr-fallback {display: none;}</style><div id=\"sk-container-id-5\" class=\"sk-top-container\"><div class=\"sk-text-repr-fallback\"><pre>SVC()</pre><b>In a Jupyter environment, please rerun this cell to show the HTML representation or trust the notebook. <br />On GitHub, the HTML representation is unable to render, please try loading this page with nbviewer.org.</b></div><div class=\"sk-container\" hidden><div class=\"sk-item\"><div class=\"sk-estimator sk-toggleable\"><input class=\"sk-toggleable__control sk-hidden--visually\" id=\"sk-estimator-id-5\" type=\"checkbox\" checked><label for=\"sk-estimator-id-5\" class=\"sk-toggleable__label sk-toggleable__label-arrow\">SVC</label><div class=\"sk-toggleable__content\"><pre>SVC()</pre></div></div></div></div></div>"
      ],
      "text/plain": [
       "SVC()"
      ]
     },
     "execution_count": 104,
     "metadata": {},
     "output_type": "execute_result"
    }
   ],
   "source": [
    "svm_model.fit(left_train, right_train)"
   ]
  },
  {
   "cell_type": "code",
   "execution_count": 106,
   "id": "1b8fdd4a-c3b5-444e-bf3e-fb33883ecfe7",
   "metadata": {},
   "outputs": [],
   "source": [
    "right_pred = svm_model.predict(left_test)"
   ]
  },
  {
   "cell_type": "code",
   "execution_count": 107,
   "id": "e8c3cb56-fd44-43c5-b390-c98c2935dcd7",
   "metadata": {},
   "outputs": [
    {
     "name": "stdout",
     "output_type": "stream",
     "text": [
      "              precision    recall  f1-score   support\n",
      "\n",
      "           0       0.82      0.78      0.80      1335\n",
      "           1       0.88      0.91      0.89      2469\n",
      "\n",
      "    accuracy                           0.86      3804\n",
      "   macro avg       0.85      0.84      0.85      3804\n",
      "weighted avg       0.86      0.86      0.86      3804\n",
      "\n"
     ]
    }
   ],
   "source": [
    "print(classification_report(right_test, right_pred))"
   ]
  },
  {
   "cell_type": "markdown",
   "id": "84da8e75-f091-4617-984b-ea10cd56fda6",
   "metadata": {},
   "source": [
    "## Neurales Netzwerk\n",
    "- Beliebig viele Inputs werden genommen und auf die Neuronen angewandt\n",
    "- Das Neuron hat eine Activation Function, diese erzeugt einen Output wenn sie angesprochen wird\n",
    "- Die Outputs von allen Neuronen einer Ebene werden weitergegeben zur nächsten Ebene\n",
    "- Drei Arten von Layern\n",
    "    - Input Layer: Daten in roher Form\n",
    "    - Hidden Layer: Berechnungen finden hier statt\n",
    "    - Output Layer: Hier kommt die Prediction heraus\n",
    "- Der Output geht danach wieder zurück in das Modell\n",
    "- Am Anfang wird das Modell inakkurat sein und über Zeit wird es sich verbessern\n",
    "    - Erhöhung der Accuracy\n",
    "    - Verringerung des Losses"
   ]
  },
  {
   "cell_type": "markdown",
   "id": "005c5eb4-0b34-4f96-b593-a7d000f3a572",
   "metadata": {},
   "source": [
    "Wir können jetzt ein eigenes Modell erstellen\n",
    "- Neuron: nimmt mehrere Daten auf und gibt über die Activation Function einen Output aus. Bei einem Neural Net werden diese Neuronen miteinander verbunden und geben dadurch ihre Outputs aneinander weiter\n",
    "- Activation Function: Erlaubt dem Neural Net, Zusammenhänge der Daten zu finden. Die Funktion normalisiert die Daten und danach wird geprüft, welche Datenpunkte zusammenhängen\n",
    "- Beliebt ReLU und Sigmoid\n",
    "    - Rectified Linear Unit: Günstige Funktion (Rechenaufwand), eignet sich dadurch für Machine Learning\n",
    "    - Sigmoid: Gibt immer einen Wert zwischen 0 und 1 zurück, eignet sich daher für das letzte Neuron (Output)\n",
    "- (Optional) Dropout: Ermöglicht, eine bestimmte Prozentzahl der Neuronen wegzuwerfen um Overfitting zu verhindern (Anpassung des Modells auf die Daten wird zu stark, dadurch wird das Modell zu \"starr\")\n",
    "- (Optional) Optimizer: Ermöglicht das Verstärken des Trainings bei schwach ausgeprägten Teilen des Modells, und umgekehrt. Hierbei wird auch eine Lernrate angegeben, die die Stärke des Optimizers angibt\n",
    "    - Adam, Adaptive Moment Estimation: Beliebt für Machine Learning"
   ]
  },
  {
   "cell_type": "code",
   "execution_count": 110,
   "id": "da06a98f-3724-4a5e-90d3-984c8a5b8053",
   "metadata": {},
   "outputs": [],
   "source": [
    "import tensorflow as tf"
   ]
  },
  {
   "cell_type": "code",
   "execution_count": 114,
   "id": "885ff19e-4c91-4a30-aa63-8ea7e847244e",
   "metadata": {},
   "outputs": [],
   "source": [
    "model = tf.keras.Sequential([\n",
    "    tf.keras.layers.Dense(32, activation=\"relu\", input_shape=(10,)),  # 10 = Anzahl der Spalten\n",
    "    tf.keras.layers.Dropout(0.2),\n",
    "    tf.keras.layers.Dense(32, activation=\"relu\"),\n",
    "    tf.keras.layers.Dropout(0.2),\n",
    "    tf.keras.layers.Dense(1, activation=\"sigmoid\")\n",
    "])\n",
    "\n",
    "model.compile(optimizer=tf.keras.optimizers.Adam(0.001),\n",
    "              loss=\"binary_crossentropy\",\n",
    "              metrics=[\"accuracy\"])"
   ]
  },
  {
   "cell_type": "code",
   "execution_count": 115,
   "id": "4ca3d322-eca8-4460-9249-3821dbc037c8",
   "metadata": {},
   "outputs": [
    {
     "name": "stdout",
     "output_type": "stream",
     "text": [
      "Model: \"sequential_3\"\n",
      "_________________________________________________________________\n",
      " Layer (type)                Output Shape              Param #   \n",
      "=================================================================\n",
      " dense_9 (Dense)             (None, 32)                352       \n",
      "                                                                 \n",
      " dropout_6 (Dropout)         (None, 32)                0         \n",
      "                                                                 \n",
      " dense_10 (Dense)            (None, 32)                1056      \n",
      "                                                                 \n",
      " dropout_7 (Dropout)         (None, 32)                0         \n",
      "                                                                 \n",
      " dense_11 (Dense)            (None, 1)                 33        \n",
      "                                                                 \n",
      "=================================================================\n",
      "Total params: 1441 (5.63 KB)\n",
      "Trainable params: 1441 (5.63 KB)\n",
      "Non-trainable params: 0 (0.00 Byte)\n",
      "_________________________________________________________________\n"
     ]
    }
   ],
   "source": [
    "model.summary()"
   ]
  },
  {
   "cell_type": "code",
   "execution_count": 117,
   "id": "adf4a74f-251d-4358-9c82-ec69f7be1819",
   "metadata": {},
   "outputs": [
    {
     "name": "stdout",
     "output_type": "stream",
     "text": [
      "Epoch 1/100\n",
      "925/925 [==============================] - 5s 4ms/step - loss: 0.4934 - accuracy: 0.7592\n",
      "Epoch 2/100\n",
      "925/925 [==============================] - 4s 5ms/step - loss: 0.4300 - accuracy: 0.7950\n",
      "Epoch 3/100\n",
      "925/925 [==============================] - 4s 5ms/step - loss: 0.4154 - accuracy: 0.8099\n",
      "Epoch 4/100\n",
      "925/925 [==============================] - 4s 4ms/step - loss: 0.4000 - accuracy: 0.8168\n",
      "Epoch 5/100\n",
      "925/925 [==============================] - 4s 4ms/step - loss: 0.3917 - accuracy: 0.8211\n",
      "Epoch 6/100\n",
      "925/925 [==============================] - 4s 4ms/step - loss: 0.3836 - accuracy: 0.8271\n",
      "Epoch 7/100\n",
      "925/925 [==============================] - 4s 4ms/step - loss: 0.3790 - accuracy: 0.8327\n",
      "Epoch 8/100\n",
      "925/925 [==============================] - 4s 4ms/step - loss: 0.3731 - accuracy: 0.8330\n",
      "Epoch 9/100\n",
      "925/925 [==============================] - 4s 4ms/step - loss: 0.3678 - accuracy: 0.8366\n",
      "Epoch 10/100\n",
      "925/925 [==============================] - 4s 4ms/step - loss: 0.3646 - accuracy: 0.8377\n",
      "Epoch 11/100\n",
      "925/925 [==============================] - 4s 4ms/step - loss: 0.3630 - accuracy: 0.8372\n",
      "Epoch 12/100\n",
      "925/925 [==============================] - 4s 4ms/step - loss: 0.3590 - accuracy: 0.8376\n",
      "Epoch 13/100\n",
      "925/925 [==============================] - 4s 4ms/step - loss: 0.3568 - accuracy: 0.8404\n",
      "Epoch 14/100\n",
      "925/925 [==============================] - 4s 4ms/step - loss: 0.3555 - accuracy: 0.8421\n",
      "Epoch 15/100\n",
      "925/925 [==============================] - 4s 4ms/step - loss: 0.3559 - accuracy: 0.8420\n",
      "Epoch 16/100\n",
      "925/925 [==============================] - 4s 4ms/step - loss: 0.3537 - accuracy: 0.8439\n",
      "Epoch 17/100\n",
      "925/925 [==============================] - 4s 4ms/step - loss: 0.3525 - accuracy: 0.8408\n",
      "Epoch 18/100\n",
      "925/925 [==============================] - 4s 4ms/step - loss: 0.3518 - accuracy: 0.8418\n",
      "Epoch 19/100\n",
      "925/925 [==============================] - 4s 4ms/step - loss: 0.3492 - accuracy: 0.8458\n",
      "Epoch 20/100\n",
      "925/925 [==============================] - 4s 4ms/step - loss: 0.3459 - accuracy: 0.8441\n",
      "Epoch 21/100\n",
      "925/925 [==============================] - 4s 4ms/step - loss: 0.3459 - accuracy: 0.8461\n",
      "Epoch 22/100\n",
      "925/925 [==============================] - 4s 4ms/step - loss: 0.3446 - accuracy: 0.8473\n",
      "Epoch 23/100\n",
      "925/925 [==============================] - 4s 4ms/step - loss: 0.3442 - accuracy: 0.8458\n",
      "Epoch 24/100\n",
      "925/925 [==============================] - 4s 4ms/step - loss: 0.3450 - accuracy: 0.8433\n",
      "Epoch 25/100\n",
      "925/925 [==============================] - 4s 4ms/step - loss: 0.3458 - accuracy: 0.8466\n",
      "Epoch 26/100\n",
      "925/925 [==============================] - 4s 4ms/step - loss: 0.3441 - accuracy: 0.8462\n",
      "Epoch 27/100\n",
      "925/925 [==============================] - 4s 4ms/step - loss: 0.3423 - accuracy: 0.8472\n",
      "Epoch 28/100\n",
      "925/925 [==============================] - 4s 4ms/step - loss: 0.3419 - accuracy: 0.8486\n",
      "Epoch 29/100\n",
      "925/925 [==============================] - 4s 4ms/step - loss: 0.3409 - accuracy: 0.8462\n",
      "Epoch 30/100\n",
      "925/925 [==============================] - 4s 4ms/step - loss: 0.3380 - accuracy: 0.8508\n",
      "Epoch 31/100\n",
      "925/925 [==============================] - 4s 4ms/step - loss: 0.3402 - accuracy: 0.8462\n",
      "Epoch 32/100\n",
      "925/925 [==============================] - 4s 4ms/step - loss: 0.3381 - accuracy: 0.8478\n",
      "Epoch 33/100\n",
      "925/925 [==============================] - 4s 5ms/step - loss: 0.3397 - accuracy: 0.8496\n",
      "Epoch 34/100\n",
      "925/925 [==============================] - 4s 5ms/step - loss: 0.3378 - accuracy: 0.8491\n",
      "Epoch 35/100\n",
      "925/925 [==============================] - 4s 4ms/step - loss: 0.3407 - accuracy: 0.8470\n",
      "Epoch 36/100\n",
      "925/925 [==============================] - 4s 4ms/step - loss: 0.3396 - accuracy: 0.8519\n",
      "Epoch 37/100\n",
      "925/925 [==============================] - 4s 4ms/step - loss: 0.3373 - accuracy: 0.8485\n",
      "Epoch 38/100\n",
      "925/925 [==============================] - 4s 4ms/step - loss: 0.3346 - accuracy: 0.8512\n",
      "Epoch 39/100\n",
      "925/925 [==============================] - 4s 4ms/step - loss: 0.3371 - accuracy: 0.8499\n",
      "Epoch 40/100\n",
      "925/925 [==============================] - 4s 5ms/step - loss: 0.3372 - accuracy: 0.8485\n",
      "Epoch 41/100\n",
      "925/925 [==============================] - 4s 4ms/step - loss: 0.3376 - accuracy: 0.8504\n",
      "Epoch 42/100\n",
      "925/925 [==============================] - 4s 4ms/step - loss: 0.3367 - accuracy: 0.8508\n",
      "Epoch 43/100\n",
      "925/925 [==============================] - 4s 4ms/step - loss: 0.3331 - accuracy: 0.8510\n",
      "Epoch 44/100\n",
      "925/925 [==============================] - 4s 5ms/step - loss: 0.3332 - accuracy: 0.8518\n",
      "Epoch 45/100\n",
      "925/925 [==============================] - 4s 4ms/step - loss: 0.3320 - accuracy: 0.8535\n",
      "Epoch 46/100\n",
      "925/925 [==============================] - 4s 4ms/step - loss: 0.3341 - accuracy: 0.8510\n",
      "Epoch 47/100\n",
      "925/925 [==============================] - 4s 4ms/step - loss: 0.3327 - accuracy: 0.8514\n",
      "Epoch 48/100\n",
      "925/925 [==============================] - 4s 4ms/step - loss: 0.3314 - accuracy: 0.8530\n",
      "Epoch 49/100\n",
      "925/925 [==============================] - 7s 8ms/step - loss: 0.3335 - accuracy: 0.8537\n",
      "Epoch 50/100\n",
      "925/925 [==============================] - 10s 11ms/step - loss: 0.3313 - accuracy: 0.8540\n",
      "Epoch 51/100\n",
      "925/925 [==============================] - 9s 10ms/step - loss: 0.3350 - accuracy: 0.8517\n",
      "Epoch 52/100\n",
      "925/925 [==============================] - 9s 10ms/step - loss: 0.3350 - accuracy: 0.8481\n",
      "Epoch 53/100\n",
      "925/925 [==============================] - 4s 4ms/step - loss: 0.3273 - accuracy: 0.8546\n",
      "Epoch 54/100\n",
      "925/925 [==============================] - 4s 4ms/step - loss: 0.3297 - accuracy: 0.8529\n",
      "Epoch 55/100\n",
      "925/925 [==============================] - 4s 4ms/step - loss: 0.3324 - accuracy: 0.8510\n",
      "Epoch 56/100\n",
      "925/925 [==============================] - 4s 4ms/step - loss: 0.3293 - accuracy: 0.8527\n",
      "Epoch 57/100\n",
      "925/925 [==============================] - 4s 4ms/step - loss: 0.3297 - accuracy: 0.8497\n",
      "Epoch 58/100\n",
      "925/925 [==============================] - 4s 4ms/step - loss: 0.3307 - accuracy: 0.8526\n",
      "Epoch 59/100\n",
      "925/925 [==============================] - 4s 4ms/step - loss: 0.3273 - accuracy: 0.8544\n",
      "Epoch 60/100\n",
      "925/925 [==============================] - 4s 4ms/step - loss: 0.3321 - accuracy: 0.8521\n",
      "Epoch 61/100\n",
      "925/925 [==============================] - 4s 4ms/step - loss: 0.3310 - accuracy: 0.8531\n",
      "Epoch 62/100\n",
      "925/925 [==============================] - 4s 4ms/step - loss: 0.3302 - accuracy: 0.8546\n",
      "Epoch 63/100\n",
      "925/925 [==============================] - 4s 4ms/step - loss: 0.3276 - accuracy: 0.8553\n",
      "Epoch 64/100\n",
      "925/925 [==============================] - 9s 10ms/step - loss: 0.3308 - accuracy: 0.8533\n",
      "Epoch 65/100\n",
      "925/925 [==============================] - 11s 12ms/step - loss: 0.3297 - accuracy: 0.8556\n",
      "Epoch 66/100\n",
      "925/925 [==============================] - 10s 11ms/step - loss: 0.3286 - accuracy: 0.8511\n",
      "Epoch 67/100\n",
      "925/925 [==============================] - 12s 13ms/step - loss: 0.3304 - accuracy: 0.8556\n",
      "Epoch 68/100\n",
      "925/925 [==============================] - 10s 10ms/step - loss: 0.3290 - accuracy: 0.8510\n",
      "Epoch 69/100\n",
      "925/925 [==============================] - 13s 14ms/step - loss: 0.3273 - accuracy: 0.8542\n",
      "Epoch 70/100\n",
      "925/925 [==============================] - 8s 9ms/step - loss: 0.3295 - accuracy: 0.8549\n",
      "Epoch 71/100\n",
      "925/925 [==============================] - 4s 5ms/step - loss: 0.3257 - accuracy: 0.8532\n",
      "Epoch 72/100\n",
      "925/925 [==============================] - 4s 4ms/step - loss: 0.3278 - accuracy: 0.8514\n",
      "Epoch 73/100\n",
      "925/925 [==============================] - 4s 4ms/step - loss: 0.3285 - accuracy: 0.8526\n",
      "Epoch 74/100\n",
      "925/925 [==============================] - 4s 4ms/step - loss: 0.3291 - accuracy: 0.8526\n",
      "Epoch 75/100\n",
      "925/925 [==============================] - 4s 4ms/step - loss: 0.3303 - accuracy: 0.8525\n",
      "Epoch 76/100\n",
      "925/925 [==============================] - 4s 5ms/step - loss: 0.3295 - accuracy: 0.8510\n",
      "Epoch 77/100\n",
      "925/925 [==============================] - 5s 5ms/step - loss: 0.3285 - accuracy: 0.8550\n",
      "Epoch 78/100\n",
      "925/925 [==============================] - 4s 4ms/step - loss: 0.3246 - accuracy: 0.8545\n",
      "Epoch 79/100\n",
      "925/925 [==============================] - 4s 5ms/step - loss: 0.3264 - accuracy: 0.8559\n",
      "Epoch 80/100\n",
      "925/925 [==============================] - 4s 4ms/step - loss: 0.3267 - accuracy: 0.8519\n",
      "Epoch 81/100\n",
      "925/925 [==============================] - 4s 5ms/step - loss: 0.3277 - accuracy: 0.8564\n",
      "Epoch 82/100\n",
      "925/925 [==============================] - 4s 4ms/step - loss: 0.3289 - accuracy: 0.8519\n",
      "Epoch 83/100\n",
      "925/925 [==============================] - 4s 4ms/step - loss: 0.3304 - accuracy: 0.8524\n",
      "Epoch 84/100\n",
      "925/925 [==============================] - 4s 4ms/step - loss: 0.3243 - accuracy: 0.8553\n",
      "Epoch 85/100\n",
      "925/925 [==============================] - 4s 4ms/step - loss: 0.3257 - accuracy: 0.8557\n",
      "Epoch 86/100\n",
      "925/925 [==============================] - 4s 4ms/step - loss: 0.3284 - accuracy: 0.8531\n",
      "Epoch 87/100\n",
      "925/925 [==============================] - 4s 4ms/step - loss: 0.3250 - accuracy: 0.8559\n",
      "Epoch 88/100\n",
      "925/925 [==============================] - 4s 4ms/step - loss: 0.3247 - accuracy: 0.8560\n",
      "Epoch 89/100\n",
      "925/925 [==============================] - 4s 4ms/step - loss: 0.3254 - accuracy: 0.8552\n",
      "Epoch 90/100\n",
      "925/925 [==============================] - 4s 4ms/step - loss: 0.3266 - accuracy: 0.8553\n",
      "Epoch 91/100\n",
      "925/925 [==============================] - 4s 4ms/step - loss: 0.3261 - accuracy: 0.8532\n",
      "Epoch 92/100\n",
      "925/925 [==============================] - 4s 4ms/step - loss: 0.3247 - accuracy: 0.8565\n",
      "Epoch 93/100\n",
      "925/925 [==============================] - 4s 4ms/step - loss: 0.3266 - accuracy: 0.8554\n",
      "Epoch 94/100\n",
      "925/925 [==============================] - 4s 4ms/step - loss: 0.3270 - accuracy: 0.8537\n",
      "Epoch 95/100\n",
      "925/925 [==============================] - 4s 4ms/step - loss: 0.3218 - accuracy: 0.8583\n",
      "Epoch 96/100\n",
      "925/925 [==============================] - 4s 4ms/step - loss: 0.3267 - accuracy: 0.8557\n",
      "Epoch 97/100\n",
      "925/925 [==============================] - 4s 4ms/step - loss: 0.3220 - accuracy: 0.8572\n",
      "Epoch 98/100\n",
      "925/925 [==============================] - 4s 4ms/step - loss: 0.3258 - accuracy: 0.8535\n",
      "Epoch 99/100\n",
      "925/925 [==============================] - 4s 4ms/step - loss: 0.3241 - accuracy: 0.8541\n",
      "Epoch 100/100\n",
      "925/925 [==============================] - 4s 4ms/step - loss: 0.3229 - accuracy: 0.8539\n"
     ]
    }
   ],
   "source": [
    "history = model.fit(left_train, right_train,\n",
    "          epochs=100,  # Anzahl Durchläufe -> Wir oft kommen wir Links rein und rechts raus\n",
    "          batch_size=16,  # Anzahl Parallelisierungen\n",
    "          verbose=1)  # Output des Trainings"
   ]
  },
  {
   "cell_type": "markdown",
   "id": "51718b77-f9af-447a-a64e-a50e64de410f",
   "metadata": {},
   "source": [
    "## Modelle speichern und laden\n",
    "model.save(\"Test.keras\")\n",
    "\n",
    "model = tf.keras.saving.load_model(\"Name)"
   ]
  },
  {
   "cell_type": "code",
   "execution_count": 119,
   "id": "230f3bc5-76cb-4dd5-86a7-116a1eb36d64",
   "metadata": {},
   "outputs": [
    {
     "name": "stdout",
     "output_type": "stream",
     "text": [
      "119/119 [==============================] - 0s 2ms/step\n"
     ]
    }
   ],
   "source": [
    "right_pred = model.predict(left_test)"
   ]
  },
  {
   "cell_type": "code",
   "execution_count": 120,
   "id": "1b594be8-4379-4390-9046-f1efe8aee8ed",
   "metadata": {},
   "outputs": [
    {
     "data": {
      "text/plain": [
       "array([[False],\n",
       "       [ True],\n",
       "       [ True],\n",
       "       ...,\n",
       "       [False],\n",
       "       [ True],\n",
       "       [ True]])"
      ]
     },
     "execution_count": 120,
     "metadata": {},
     "output_type": "execute_result"
    }
   ],
   "source": [
    "(right_pred >= 0.5)"
   ]
  },
  {
   "cell_type": "code",
   "execution_count": 121,
   "id": "91210f57-56a3-455d-807a-a6acb6b2d533",
   "metadata": {},
   "outputs": [],
   "source": [
    "def showPredictionNN(left_test, right_test, right_pred):\n",
    "    data = pd.DataFrame(left_test)\n",
    "    data[\"Actual\"] = right_test\n",
    "    data[\"Prediction\"] = (right_pred >= 0.5).astype(int)\n",
    "    return data"
   ]
  },
  {
   "cell_type": "code",
   "execution_count": 122,
   "id": "a45caabe-2ecb-4116-84fd-0481e9f80571",
   "metadata": {},
   "outputs": [],
   "source": [
    "accuracy = showPredictionNN(left_test, right_test, right_pred)"
   ]
  },
  {
   "cell_type": "code",
   "execution_count": 123,
   "id": "bffffcb6-74e2-4f44-a630-c597d751d56c",
   "metadata": {},
   "outputs": [],
   "source": [
    "eval = (accuracy[\"Actual\"] == accuracy[\"Prediction\"]).value_counts()"
   ]
  },
  {
   "cell_type": "code",
   "execution_count": 125,
   "id": "5df6ee66-b50c-41f2-868a-0ef0007eba81",
   "metadata": {},
   "outputs": [
    {
     "data": {
      "text/plain": [
       "True     3324\n",
       "False     480\n",
       "Name: count, dtype: int64"
      ]
     },
     "execution_count": 125,
     "metadata": {},
     "output_type": "execute_result"
    }
   ],
   "source": [
    "eval"
   ]
  },
  {
   "cell_type": "code",
   "execution_count": 126,
   "id": "9b52f6de-853a-4d44-8bc6-f074a847dfd7",
   "metadata": {},
   "outputs": [
    {
     "data": {
      "text/plain": [
       "0.8738170347003155"
      ]
     },
     "execution_count": 126,
     "metadata": {},
     "output_type": "execute_result"
    }
   ],
   "source": [
    "eval[0] / len(accuracy)"
   ]
  },
  {
   "cell_type": "code",
   "execution_count": 127,
   "id": "e0221d59-23a9-4c4c-b029-4dde9c2821e5",
   "metadata": {},
   "outputs": [
    {
     "data": {
      "text/plain": [
       "0.12618296529968454"
      ]
     },
     "execution_count": 127,
     "metadata": {},
     "output_type": "execute_result"
    }
   ],
   "source": [
    "eval[1] / len(accuracy)"
   ]
  },
  {
   "cell_type": "markdown",
   "id": "891a5a86-e418-4e54-b4ad-90f504517d8b",
   "metadata": {},
   "source": [
    "Validation Data: Während dem Training die Tests mitmachen"
   ]
  },
  {
   "cell_type": "code",
   "execution_count": 131,
   "id": "e40be2bd-022e-49d4-bc6a-cc777e52062a",
   "metadata": {
    "collapsed": true,
    "jupyter": {
     "outputs_hidden": true
    },
    "scrolled": true
   },
   "outputs": [
    {
     "ename": "ValueError",
     "evalue": "The truth value of an array with more than one element is ambiguous. Use a.any() or a.all()",
     "output_type": "error",
     "traceback": [
      "\u001b[1;31m---------------------------------------------------------------------------\u001b[0m",
      "\u001b[1;31mValueError\u001b[0m                                Traceback (most recent call last)",
      "Cell \u001b[1;32mIn[131], line 1\u001b[0m\n\u001b[1;32m----> 1\u001b[0m history \u001b[38;5;241m=\u001b[39m \u001b[43mmodel\u001b[49m\u001b[38;5;241;43m.\u001b[39;49m\u001b[43mfit\u001b[49m\u001b[43m(\u001b[49m\u001b[43mleft_train\u001b[49m\u001b[43m,\u001b[49m\u001b[43m \u001b[49m\u001b[43mright_train\u001b[49m\u001b[43m,\u001b[49m\n\u001b[0;32m      2\u001b[0m \u001b[43m          \u001b[49m\u001b[43mepochs\u001b[49m\u001b[38;5;241;43m=\u001b[39;49m\u001b[38;5;241;43m20\u001b[39;49m\u001b[43m,\u001b[49m\n\u001b[0;32m      3\u001b[0m \u001b[43m          \u001b[49m\u001b[43mbatch_size\u001b[49m\u001b[38;5;241;43m=\u001b[39;49m\u001b[38;5;241;43m16\u001b[39;49m\u001b[43m,\u001b[49m\n\u001b[0;32m      4\u001b[0m \u001b[43m          \u001b[49m\u001b[43mvalidation_data\u001b[49m\u001b[38;5;241;43m=\u001b[39;49m\u001b[43mright_valid\u001b[49m\u001b[43m,\u001b[49m\n\u001b[0;32m      5\u001b[0m \u001b[43m          \u001b[49m\u001b[43mverbose\u001b[49m\u001b[38;5;241;43m=\u001b[39;49m\u001b[38;5;241;43m1\u001b[39;49m\u001b[43m)\u001b[49m\n",
      "File \u001b[1;32m~\\source\\repos\\Python_DataScience_2023_08_14\\venv\\lib\\site-packages\\keras\\src\\utils\\traceback_utils.py:70\u001b[0m, in \u001b[0;36mfilter_traceback.<locals>.error_handler\u001b[1;34m(*args, **kwargs)\u001b[0m\n\u001b[0;32m     67\u001b[0m     filtered_tb \u001b[38;5;241m=\u001b[39m _process_traceback_frames(e\u001b[38;5;241m.\u001b[39m__traceback__)\n\u001b[0;32m     68\u001b[0m     \u001b[38;5;66;03m# To get the full stack trace, call:\u001b[39;00m\n\u001b[0;32m     69\u001b[0m     \u001b[38;5;66;03m# `tf.debugging.disable_traceback_filtering()`\u001b[39;00m\n\u001b[1;32m---> 70\u001b[0m     \u001b[38;5;28;01mraise\u001b[39;00m e\u001b[38;5;241m.\u001b[39mwith_traceback(filtered_tb) \u001b[38;5;28;01mfrom\u001b[39;00m \u001b[38;5;28;01mNone\u001b[39;00m\n\u001b[0;32m     71\u001b[0m \u001b[38;5;28;01mfinally\u001b[39;00m:\n\u001b[0;32m     72\u001b[0m     \u001b[38;5;28;01mdel\u001b[39;00m filtered_tb\n",
      "File \u001b[1;32m~\\source\\repos\\Python_DataScience_2023_08_14\\venv\\lib\\site-packages\\keras\\src\\engine\\training.py:1664\u001b[0m, in \u001b[0;36mModel.fit\u001b[1;34m(self, x, y, batch_size, epochs, verbose, callbacks, validation_split, validation_data, shuffle, class_weight, sample_weight, initial_epoch, steps_per_epoch, validation_steps, validation_batch_size, validation_freq, max_queue_size, workers, use_multiprocessing)\u001b[0m\n\u001b[0;32m   1653\u001b[0m \u001b[38;5;28;01mif\u001b[39;00m validation_split \u001b[38;5;129;01mand\u001b[39;00m validation_data \u001b[38;5;129;01mis\u001b[39;00m \u001b[38;5;28;01mNone\u001b[39;00m:\n\u001b[0;32m   1654\u001b[0m     \u001b[38;5;66;03m# Create the validation data using the training data. Only supported\u001b[39;00m\n\u001b[0;32m   1655\u001b[0m     \u001b[38;5;66;03m# for `Tensor` and `NumPy` input.\u001b[39;00m\n\u001b[0;32m   1656\u001b[0m     (\n\u001b[0;32m   1657\u001b[0m         x,\n\u001b[0;32m   1658\u001b[0m         y,\n\u001b[1;32m   (...)\u001b[0m\n\u001b[0;32m   1661\u001b[0m         (x, y, sample_weight), validation_split\u001b[38;5;241m=\u001b[39mvalidation_split\n\u001b[0;32m   1662\u001b[0m     )\n\u001b[1;32m-> 1664\u001b[0m \u001b[38;5;28;01mif\u001b[39;00m validation_data:\n\u001b[0;32m   1665\u001b[0m     (\n\u001b[0;32m   1666\u001b[0m         val_x,\n\u001b[0;32m   1667\u001b[0m         val_y,\n\u001b[0;32m   1668\u001b[0m         val_sample_weight,\n\u001b[0;32m   1669\u001b[0m     ) \u001b[38;5;241m=\u001b[39m data_adapter\u001b[38;5;241m.\u001b[39munpack_x_y_sample_weight(validation_data)\n\u001b[0;32m   1671\u001b[0m \u001b[38;5;28;01mif\u001b[39;00m \u001b[38;5;28mself\u001b[39m\u001b[38;5;241m.\u001b[39mdistribute_strategy\u001b[38;5;241m.\u001b[39m_should_use_with_coordinator:\n",
      "\u001b[1;31mValueError\u001b[0m: The truth value of an array with more than one element is ambiguous. Use a.any() or a.all()"
     ]
    }
   ],
   "source": [
    "history = model.fit(left_train, right_train,\n",
    "          epochs=20,\n",
    "          batch_size=16,\n",
    "          validation_data=left_valid,  # Validation Data kann hier übergeben werden\n",
    "          verbose=1)"
   ]
  },
  {
   "cell_type": "code",
   "execution_count": 139,
   "id": "fddc3ede-6d62-43ca-86c0-5634c0ae23a3",
   "metadata": {},
   "outputs": [
    {
     "data": {
      "image/png": "[encoded data removed]",
      "text/plain": [
       "<Figure size 1200x600 with 2 Axes>"
      ]
     },
     "metadata": {},
     "output_type": "display_data"
    }
   ],
   "source": [
    "fig, (ax1, ax2) = plt.subplots(1, 2, figsize=(12, 6))\n",
    "ax1.plot(history.history[\"loss\"])\n",
    "ax1.set_title(\"Loss\")\n",
    "ax1.grid(True)\n",
    "\n",
    "ax2.plot(history.history[\"accuracy\"])\n",
    "ax2.set_title(\"Accuracy\")\n",
    "ax2.grid(True)"
   ]
  },
  {
   "cell_type": "code",
   "execution_count": null,
   "id": "0c49180c-aa26-4e27-818c-e9e637eb7107",
   "metadata": {},
   "outputs": [],
   "source": []
  }
 ],
 "metadata": {
  "kernelspec": {
   "display_name": "Python 3 (ipykernel)",
   "language": "python",
   "name": "python3"
  },
  "language_info": {
   "codemirror_mode": {
    "name": "ipython",
    "version": 3
   },
   "file_extension": ".py",
   "mimetype": "text/x-python",
   "name": "python",
   "nbconvert_exporter": "python",
   "pygments_lexer": "ipython3",
   "version": "3.10.6"
  }
 },
 "nbformat": 4,
 "nbformat_minor": 5
}
