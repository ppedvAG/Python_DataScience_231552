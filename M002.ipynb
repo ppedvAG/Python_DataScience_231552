{
 "cells": [
  {
   "cell_type": "markdown",
   "id": "51df7f7e-e53d-4932-beae-5f80043e2e7e",
   "metadata": {},
   "source": [
    "## Numpy\n",
    "\n",
    "Ermöglicht uns Arrays zu erstellen die mit C-basierten Zahlen gefüllt sind statt mit Objekten\n",
    "\n",
    "Muss installiert werden (über Python Packages oder pip) und importiert werden"
   ]
  },
  {
   "cell_type": "code",
   "execution_count": 1,
   "id": "6600898e-f86d-4893-a104-3b4ba4054c84",
   "metadata": {},
   "outputs": [],
   "source": [
    "import numpy as np"
   ]
  },
  {
   "cell_type": "markdown",
   "id": "53d5687a-a8de-4ade-abd0-4832e31055cc",
   "metadata": {},
   "source": [
    "## Arrays\n",
    "\n",
    "Numpy Arrays aus einer Python Liste erzeugen"
   ]
  },
  {
   "cell_type": "code",
   "execution_count": 2,
   "id": "4961698d-5f75-4c08-aea2-6fe28e86ae05",
   "metadata": {},
   "outputs": [
    {
     "data": {
      "text/plain": [
       "array([1, 2, 3, 4])"
      ]
     },
     "execution_count": 2,
     "metadata": {},
     "output_type": "execute_result"
    }
   ],
   "source": [
    "np.array([1, 2, 3, 4])"
   ]
  },
  {
   "cell_type": "markdown",
   "id": "fe893daa-d8b9-4af5-9dd5-1b8eeb8a41eb",
   "metadata": {},
   "source": [
    "Variable anlegen"
   ]
  },
  {
   "cell_type": "code",
   "execution_count": 3,
   "id": "1d2d9479-8c9e-494a-bf79-cbde0b59d1b0",
   "metadata": {},
   "outputs": [
    {
     "data": {
      "text/plain": [
       "array([1, 2, 3, 4])"
      ]
     },
     "execution_count": 3,
     "metadata": {},
     "output_type": "execute_result"
    }
   ],
   "source": [
    "a = np.array([1, 2, 3, 4])\n",
    "a"
   ]
  },
  {
   "cell_type": "code",
   "execution_count": 4,
   "id": "6c10db0e-ddb8-423c-9072-deac9bb283a0",
   "metadata": {},
   "outputs": [
    {
     "data": {
      "text/plain": [
       "dtype('int32')"
      ]
     },
     "execution_count": 4,
     "metadata": {},
     "output_type": "execute_result"
    }
   ],
   "source": [
    "a.dtype"
   ]
  },
  {
   "cell_type": "code",
   "execution_count": 5,
   "id": "e3bdb971-c6c5-464d-a974-9b53bba85e04",
   "metadata": {},
   "outputs": [
    {
     "data": {
      "text/plain": [
       "array([0.5, 3.2, 4.9, 1.7])"
      ]
     },
     "execution_count": 5,
     "metadata": {},
     "output_type": "execute_result"
    }
   ],
   "source": [
    "b = np.array([0.5, 3.2, 4.9, 1.7])\n",
    "b"
   ]
  },
  {
   "cell_type": "code",
   "execution_count": 6,
   "id": "3ee601e8-b18a-4ced-b95d-f3cbe441e1a4",
   "metadata": {},
   "outputs": [
    {
     "data": {
      "text/plain": [
       "dtype('float64')"
      ]
     },
     "execution_count": 6,
     "metadata": {},
     "output_type": "execute_result"
    }
   ],
   "source": [
    "b.dtype"
   ]
  },
  {
   "cell_type": "markdown",
   "id": "c054d063-009e-4f7c-ab6d-ed5ec5c3617a",
   "metadata": {},
   "source": [
    "Typen beachten!\n",
    "\n",
    "Können bei Erstellung des Arrays mitgegeben werden"
   ]
  },
  {
   "cell_type": "code",
   "execution_count": 7,
   "id": "6652b042-0a9f-4fb6-88a9-a03f158411e0",
   "metadata": {},
   "outputs": [
    {
     "data": {
      "text/plain": [
       "array([1, 2, 3, 4], dtype=int8)"
      ]
     },
     "execution_count": 7,
     "metadata": {},
     "output_type": "execute_result"
    }
   ],
   "source": [
    "c = np.array([1, 2, 3, 4], dtype=np.int8)\n",
    "c"
   ]
  },
  {
   "cell_type": "markdown",
   "id": "611a5fc4-4a82-47ed-8259-bb075f8a8631",
   "metadata": {},
   "source": [
    "a: int32, b: float64 -> ineffizient\n",
    "\n",
    "Nachdem Numpy in C geschrieben ist, sind effiziente Typen möglich"
   ]
  },
  {
   "cell_type": "code",
   "execution_count": 8,
   "id": "36629336-6e52-48e3-9668-20527f07c88e",
   "metadata": {},
   "outputs": [
    {
     "data": {
      "text/plain": [
       "array([1.4, 2.2, 3.9, 4.5], dtype=float16)"
      ]
     },
     "execution_count": 8,
     "metadata": {},
     "output_type": "execute_result"
    }
   ],
   "source": [
    "d = np.array([1.4, 2.2, 3.9, 4.5], dtype=np.float16)\n",
    "d"
   ]
  },
  {
   "cell_type": "markdown",
   "id": "d0211556-21ab-4b9b-b39d-67825f18d635",
   "metadata": {},
   "source": [
    "## Matrizen\n",
    "\n",
    "Matrizen werden oft benötigt nachdem Daten häufig zweidimensional sind\n",
    "\n",
    "Mit der np.array Funktion können auch mehrdimensionale Arrays dargestellt werden"
   ]
  },
  {
   "cell_type": "code",
   "execution_count": 9,
   "id": "c4c04bc4-d4b9-4bf8-b545-47f1f6735072",
   "metadata": {},
   "outputs": [
    {
     "data": {
      "text/plain": [
       "array([[1, 2, 3],\n",
       "       [4, 5, 6],\n",
       "       [7, 8, 9]])"
      ]
     },
     "execution_count": 9,
     "metadata": {},
     "output_type": "execute_result"
    }
   ],
   "source": [
    "m = np.array( # wichtig: Klammer auf der selben Zeile\n",
    "    [\n",
    "        [1, 2, 3],\n",
    "        [4, 5, 6],\n",
    "        [7, 8, 9]\n",
    "    ]\n",
    ")\n",
    "m"
   ]
  },
  {
   "cell_type": "code",
   "execution_count": 10,
   "id": "8cf26e7d-7922-4859-97cb-ef930150a61d",
   "metadata": {},
   "outputs": [
    {
     "data": {
      "text/plain": [
       "(3, 3)"
      ]
     },
     "execution_count": 10,
     "metadata": {},
     "output_type": "execute_result"
    }
   ],
   "source": [
    "m.shape  # Form hier 3x3"
   ]
  },
  {
   "cell_type": "code",
   "execution_count": 11,
   "id": "d2b941a6-102f-42ea-a5be-dbc49b0a087f",
   "metadata": {},
   "outputs": [
    {
     "data": {
      "text/plain": [
       "9"
      ]
     },
     "execution_count": 11,
     "metadata": {},
     "output_type": "execute_result"
    }
   ],
   "source": [
    "m.size  # Anzahl Elemente gesamt (9)"
   ]
  },
  {
   "cell_type": "code",
   "execution_count": 12,
   "id": "c14f704e-2fd6-4afd-bb5d-50c72179fe6b",
   "metadata": {},
   "outputs": [
    {
     "data": {
      "text/plain": [
       "2"
      ]
     },
     "execution_count": 12,
     "metadata": {},
     "output_type": "execute_result"
    }
   ],
   "source": [
    "m.ndim  # Anzahl Dimensionen"
   ]
  },
  {
   "cell_type": "markdown",
   "id": "15ccf0e0-44f5-4b7a-bcec-ae8332e688a4",
   "metadata": {},
   "source": [
    "## Matrix angreifen"
   ]
  },
  {
   "cell_type": "code",
   "execution_count": 13,
   "id": "42520c3e-ac76-4beb-80f3-92d2e0ed6e9f",
   "metadata": {},
   "outputs": [
    {
     "data": {
      "text/plain": [
       "array([4, 5, 6])"
      ]
     },
     "execution_count": 13,
     "metadata": {},
     "output_type": "execute_result"
    }
   ],
   "source": [
    "m[1]"
   ]
  },
  {
   "cell_type": "code",
   "execution_count": 14,
   "id": "1002646e-9d78-4a7b-a508-dd8a888a69de",
   "metadata": {},
   "outputs": [
    {
     "data": {
      "text/plain": [
       "4"
      ]
     },
     "execution_count": 14,
     "metadata": {},
     "output_type": "execute_result"
    }
   ],
   "source": [
    "m[1][0]  # Erste Dimension, nullter Wert"
   ]
  },
  {
   "cell_type": "code",
   "execution_count": 15,
   "id": "f7616e9d-5c7f-4f54-abd8-8e21ac5434c3",
   "metadata": {},
   "outputs": [
    {
     "data": {
      "text/plain": [
       "4"
      ]
     },
     "execution_count": 15,
     "metadata": {},
     "output_type": "execute_result"
    }
   ],
   "source": [
    "m[1, 0]  # Selbiges wie oben, nur einfacher"
   ]
  },
  {
   "cell_type": "markdown",
   "id": "99eb28f0-db17-4800-8266-a4ae57b2c9ca",
   "metadata": {},
   "source": [
    "## Slicing von Matrizen\n",
    "\n",
    "Teile von einer Matrix entnehmen -> Wichtig bei 2D-Daten\n",
    "\n",
    "z.B.:\n",
    "\n",
    "1:3\n",
    "\n",
    "2:\n",
    "\n",
    ":3\n",
    "\n",
    "Obergrenze exkludiert"
   ]
  },
  {
   "cell_type": "code",
   "execution_count": 16,
   "id": "02e70ee9-b838-4001-9b6d-ab5be3879b51",
   "metadata": {},
   "outputs": [
    {
     "data": {
      "text/plain": [
       "array([[1, 2, 3],\n",
       "       [4, 5, 6],\n",
       "       [7, 8, 9]])"
      ]
     },
     "execution_count": 16,
     "metadata": {},
     "output_type": "execute_result"
    }
   ],
   "source": [
    "m[:]"
   ]
  },
  {
   "cell_type": "code",
   "execution_count": 17,
   "id": "4162ae5c-9032-4344-8d10-73b31cfb4de0",
   "metadata": {},
   "outputs": [
    {
     "data": {
      "text/plain": [
       "array([[1, 2, 3],\n",
       "       [4, 5, 6]])"
      ]
     },
     "execution_count": 17,
     "metadata": {},
     "output_type": "execute_result"
    }
   ],
   "source": [
    "m[0:2]  # 0 und 1 aber nicht 2 (Obergrenze exkludiert)"
   ]
  },
  {
   "cell_type": "code",
   "execution_count": 18,
   "id": "ff24401a-1d62-4557-9d2c-5fd958ed80fb",
   "metadata": {},
   "outputs": [
    {
     "data": {
      "text/plain": [
       "array([2, 5])"
      ]
     },
     "execution_count": 18,
     "metadata": {},
     "output_type": "execute_result"
    }
   ],
   "source": [
    "m[0:2, 1]"
   ]
  },
  {
   "cell_type": "code",
   "execution_count": 19,
   "id": "40f18320-75e0-4243-a5ab-3fffae9b4a58",
   "metadata": {},
   "outputs": [
    {
     "data": {
      "text/plain": [
       "array([[2, 3],\n",
       "       [5, 6]])"
      ]
     },
     "execution_count": 19,
     "metadata": {},
     "output_type": "execute_result"
    }
   ],
   "source": [
    "m[0:2, 1:]"
   ]
  },
  {
   "cell_type": "code",
   "execution_count": 20,
   "id": "37ef631a-a2a1-4130-83b8-785c2ac35255",
   "metadata": {},
   "outputs": [
    {
     "data": {
      "text/plain": [
       "array([3, 6, 9])"
      ]
     },
     "execution_count": 20,
     "metadata": {},
     "output_type": "execute_result"
    }
   ],
   "source": [
    "m[:, 2]"
   ]
  },
  {
   "cell_type": "markdown",
   "id": "81c46c30-aa5e-4426-8c69-9c83c638e20c",
   "metadata": {},
   "source": [
    "## Matrix bearbeiten\n",
    "\n",
    "Auf bestimmten Stellen neue Werte eintragen"
   ]
  },
  {
   "cell_type": "code",
   "execution_count": 21,
   "id": "fbdf0d76-990c-4fd3-a199-af1c0591753a",
   "metadata": {},
   "outputs": [
    {
     "data": {
      "text/plain": [
       "array([[  1,   2,   3],\n",
       "       [  4, 100,   6],\n",
       "       [  7,   8,   9]])"
      ]
     },
     "execution_count": 21,
     "metadata": {},
     "output_type": "execute_result"
    }
   ],
   "source": [
    "m[1, 1] = 100\n",
    "m"
   ]
  },
  {
   "cell_type": "code",
   "execution_count": 22,
   "id": "440de418-e607-4453-96de-a3d2614482ed",
   "metadata": {},
   "outputs": [
    {
     "data": {
      "text/plain": [
       "array([[  1,   2,   3],\n",
       "       [100, 100, 100],\n",
       "       [  7,   8,   9]])"
      ]
     },
     "execution_count": 22,
     "metadata": {},
     "output_type": "execute_result"
    }
   ],
   "source": [
    "m[1] = 100\n",
    "m"
   ]
  },
  {
   "cell_type": "code",
   "execution_count": 23,
   "id": "861f19c2-c513-4725-81b8-a59448636e45",
   "metadata": {},
   "outputs": [
    {
     "data": {
      "text/plain": [
       "array([[  1,   2, 200],\n",
       "       [100, 100, 200],\n",
       "       [  7,   8, 200]])"
      ]
     },
     "execution_count": 23,
     "metadata": {},
     "output_type": "execute_result"
    }
   ],
   "source": [
    "m[:, 2] = 200\n",
    "m"
   ]
  },
  {
   "cell_type": "markdown",
   "id": "e8bed667-1f54-4782-81b6-0c0d6a19efd8",
   "metadata": {},
   "source": [
    "## Einfache Analyse von Arrays und Matrizen"
   ]
  },
  {
   "cell_type": "code",
   "execution_count": 24,
   "id": "dff97a86-872d-4682-a773-0c53a18679b1",
   "metadata": {},
   "outputs": [
    {
     "data": {
      "text/plain": [
       "10"
      ]
     },
     "execution_count": 24,
     "metadata": {},
     "output_type": "execute_result"
    }
   ],
   "source": [
    "a.sum()"
   ]
  },
  {
   "cell_type": "code",
   "execution_count": 25,
   "id": "b5c5e190-3184-4276-b3b2-e215a7ec7df0",
   "metadata": {},
   "outputs": [
    {
     "data": {
      "text/plain": [
       "2.5"
      ]
     },
     "execution_count": 25,
     "metadata": {},
     "output_type": "execute_result"
    }
   ],
   "source": [
    "a.mean()"
   ]
  },
  {
   "cell_type": "code",
   "execution_count": 26,
   "id": "99586602-d70a-446c-8f52-897588f6c7ac",
   "metadata": {},
   "outputs": [
    {
     "data": {
      "text/plain": [
       "1.118033988749895"
      ]
     },
     "execution_count": 26,
     "metadata": {},
     "output_type": "execute_result"
    }
   ],
   "source": [
    "a.std()"
   ]
  },
  {
   "cell_type": "code",
   "execution_count": 27,
   "id": "50d08928-2dcd-418f-a100-ba6064835ce9",
   "metadata": {},
   "outputs": [
    {
     "data": {
      "text/plain": [
       "1.25"
      ]
     },
     "execution_count": 27,
     "metadata": {},
     "output_type": "execute_result"
    }
   ],
   "source": [
    "a.var()"
   ]
  },
  {
   "cell_type": "markdown",
   "id": "98dfa532-7725-43a3-bd76-8685d22ea102",
   "metadata": {},
   "source": [
    "Matrizen"
   ]
  },
  {
   "cell_type": "code",
   "execution_count": 28,
   "id": "e49f7f8c-f6ac-4290-b486-91b08291387e",
   "metadata": {},
   "outputs": [
    {
     "data": {
      "text/plain": [
       "818"
      ]
     },
     "execution_count": 28,
     "metadata": {},
     "output_type": "execute_result"
    }
   ],
   "source": [
    "m.sum()"
   ]
  },
  {
   "cell_type": "code",
   "execution_count": 29,
   "id": "b531c595-7d3a-4ccb-b719-c0890eb529ab",
   "metadata": {},
   "outputs": [
    {
     "data": {
      "text/plain": [
       "90.88888888888889"
      ]
     },
     "execution_count": 29,
     "metadata": {},
     "output_type": "execute_result"
    }
   ],
   "source": [
    "m.mean()"
   ]
  },
  {
   "cell_type": "code",
   "execution_count": 30,
   "id": "5f811f45-706b-4aa1-aec2-bdfac3eeaf16",
   "metadata": {},
   "outputs": [
    {
     "data": {
      "text/plain": [
       "85.48611900893546"
      ]
     },
     "execution_count": 30,
     "metadata": {},
     "output_type": "execute_result"
    }
   ],
   "source": [
    "m.std()"
   ]
  },
  {
   "cell_type": "code",
   "execution_count": 31,
   "id": "62fd9a99-85b5-448c-a2f2-0e635dcb4fa2",
   "metadata": {},
   "outputs": [
    {
     "data": {
      "text/plain": [
       "7307.876543209877"
      ]
     },
     "execution_count": 31,
     "metadata": {},
     "output_type": "execute_result"
    }
   ],
   "source": [
    "m.var()"
   ]
  },
  {
   "cell_type": "markdown",
   "id": "93416c47-88ca-4ce6-822e-b290c6f6eb7e",
   "metadata": {},
   "source": [
    "Mit axis=Achse kann auch eine Achse angegeben werden (z.B. Spalten aufsummieren)"
   ]
  },
  {
   "cell_type": "code",
   "execution_count": 33,
   "id": "d086d0ba-8b39-4ffd-994d-9f3b4e3ff5f7",
   "metadata": {},
   "outputs": [
    {
     "data": {
      "text/plain": [
       "array([108, 110, 600])"
      ]
     },
     "execution_count": 33,
     "metadata": {},
     "output_type": "execute_result"
    }
   ],
   "source": [
    "m.sum(axis=0)  # 0 = Y-Achse"
   ]
  },
  {
   "cell_type": "code",
   "execution_count": 36,
   "id": "018f5772-5d89-4d35-b77b-3812c342898f",
   "metadata": {},
   "outputs": [
    {
     "data": {
      "text/plain": [
       "array([203, 400, 215])"
      ]
     },
     "execution_count": 36,
     "metadata": {},
     "output_type": "execute_result"
    }
   ],
   "source": [
    "m.sum(axis=1)  # 1 = X-Achse"
   ]
  },
  {
   "cell_type": "code",
   "execution_count": 35,
   "id": "12176750-9377-440c-993e-a6ab1b2c4852",
   "metadata": {},
   "outputs": [
    {
     "data": {
      "text/plain": [
       "array([ 67.66666667, 133.33333333,  71.66666667])"
      ]
     },
     "execution_count": 35,
     "metadata": {},
     "output_type": "execute_result"
    }
   ],
   "source": [
    "m.mean(axis=1)"
   ]
  },
  {
   "cell_type": "markdown",
   "id": "c2d655ce-6600-4c74-ae2e-48e64c27c699",
   "metadata": {},
   "source": [
    "## Vektorisierung von Arrays\n",
    "\n",
    "Ein gesamtes Array mit einer einzigen Operation bearbeiten\n",
    "\n",
    "WICHTIG: Es kommt bei Vektorisierung ein neues Array als Ergebnis zurück"
   ]
  },
  {
   "cell_type": "code",
   "execution_count": 54,
   "id": "3ef6834c-1bb6-478b-b010-dc13ceccaada",
   "metadata": {},
   "outputs": [
    {
     "data": {
      "text/plain": [
       "array([0, 1, 2, 3, 4, 5, 6, 7, 8, 9])"
      ]
     },
     "execution_count": 54,
     "metadata": {},
     "output_type": "execute_result"
    }
   ],
   "source": [
    "v = np.arange(0, 10)  # Generiert ein Array befüllt mit Zahlen von 0 bis X, der erste Parameter kann auch eine Untergrenze darstellen\n",
    "v"
   ]
  },
  {
   "cell_type": "code",
   "execution_count": 55,
   "id": "1b2f7bef-6fc1-42ca-842d-ac28e364eda0",
   "metadata": {},
   "outputs": [
    {
     "data": {
      "text/plain": [
       "array([10, 11, 12, 13, 14, 15, 16, 17, 18, 19])"
      ]
     },
     "execution_count": 55,
     "metadata": {},
     "output_type": "execute_result"
    }
   ],
   "source": [
    "v + 10"
   ]
  },
  {
   "cell_type": "code",
   "execution_count": 56,
   "id": "dc5a2518-5a0b-42b5-a554-bf6a3720e6fb",
   "metadata": {},
   "outputs": [
    {
     "data": {
      "text/plain": [
       "array([ 0, 10, 20, 30, 40, 50, 60, 70, 80, 90])"
      ]
     },
     "execution_count": 56,
     "metadata": {},
     "output_type": "execute_result"
    }
   ],
   "source": [
    "v * 10  # Originales Array wird nicht verändert"
   ]
  },
  {
   "cell_type": "code",
   "execution_count": 57,
   "id": "36794bbe-0c94-4805-bb70-ae777b6bbe57",
   "metadata": {},
   "outputs": [
    {
     "data": {
      "text/plain": [
       "array([10, 11, 12, 13, 14, 15, 16, 17, 18, 19])"
      ]
     },
     "execution_count": 57,
     "metadata": {},
     "output_type": "execute_result"
    }
   ],
   "source": [
    "v += 10\n",
    "v"
   ]
  },
  {
   "cell_type": "code",
   "execution_count": 58,
   "id": "11e2b685-4e20-451c-b518-30e22a0d070c",
   "metadata": {},
   "outputs": [
    {
     "data": {
      "text/plain": [
       "array([100, 110, 120, 130, 140, 150, 160, 170, 180, 190])"
      ]
     },
     "execution_count": 58,
     "metadata": {},
     "output_type": "execute_result"
    }
   ],
   "source": [
    "v * 10"
   ]
  },
  {
   "cell_type": "code",
   "execution_count": 62,
   "id": "99bb1750-ba81-442c-a59e-c73de1141dd9",
   "metadata": {},
   "outputs": [
    {
     "data": {
      "text/plain": [
       "array([100, 121, 144, 169, 196, 225, 256, 289, 324, 361])"
      ]
     },
     "execution_count": 62,
     "metadata": {},
     "output_type": "execute_result"
    }
   ],
   "source": [
    "v * v  # Vektorisierung funktioniert auch mit andere Arrays"
   ]
  },
  {
   "cell_type": "markdown",
   "id": "cc262f5d-4534-457b-b8b8-e8ac0e256ae2",
   "metadata": {},
   "source": [
    "## Boolean Arrays (Masken)\n",
    "\n",
    "Ermöglichen uns unsere Daten zu filtern mithilfe von Vektorisierung"
   ]
  },
  {
   "cell_type": "code",
   "execution_count": 65,
   "id": "ef4bd458-8f65-489b-b409-1afc7b083ac6",
   "metadata": {},
   "outputs": [
    {
     "data": {
      "text/plain": [
       "array([0, 1, 2, 3])"
      ]
     },
     "execution_count": 65,
     "metadata": {},
     "output_type": "execute_result"
    }
   ],
   "source": [
    "ba = np.arange(4)\n",
    "ba"
   ]
  },
  {
   "cell_type": "code",
   "execution_count": 66,
   "id": "7489f6aa-2929-4756-bb06-54ac0dffcdb8",
   "metadata": {},
   "outputs": [
    {
     "data": {
      "text/plain": [
       "array([False, False,  True,  True])"
      ]
     },
     "execution_count": 66,
     "metadata": {},
     "output_type": "execute_result"
    }
   ],
   "source": [
    "ba >= 2"
   ]
  },
  {
   "cell_type": "code",
   "execution_count": 67,
   "id": "104c774d-7247-4d99-8622-2e507acb3f6e",
   "metadata": {},
   "outputs": [
    {
     "data": {
      "text/plain": [
       "array([2, 3])"
      ]
     },
     "execution_count": 67,
     "metadata": {},
     "output_type": "execute_result"
    }
   ],
   "source": [
    "ba[ba >= 2]"
   ]
  },
  {
   "cell_type": "code",
   "execution_count": 69,
   "id": "f3f8c925-62ff-4c12-984b-d797689cbd4e",
   "metadata": {},
   "outputs": [
    {
     "data": {
      "text/plain": [
       "array([ True,  True, False, False])"
      ]
     },
     "execution_count": 69,
     "metadata": {},
     "output_type": "execute_result"
    }
   ],
   "source": [
    "ba < ba.mean()"
   ]
  },
  {
   "cell_type": "code",
   "execution_count": 70,
   "id": "69f81ae1-fd60-4528-82a8-89b695ab767a",
   "metadata": {},
   "outputs": [
    {
     "data": {
      "text/plain": [
       "array([0, 1])"
      ]
     },
     "execution_count": 70,
     "metadata": {},
     "output_type": "execute_result"
    }
   ],
   "source": [
    "ba[ba < ba.mean()]"
   ]
  },
  {
   "cell_type": "code",
   "execution_count": 75,
   "id": "ebd3500c-5c97-4e34-a868-b370fe27d9ec",
   "metadata": {},
   "outputs": [
    {
     "data": {
      "text/plain": [
       "array([2, 3])"
      ]
     },
     "execution_count": 75,
     "metadata": {},
     "output_type": "execute_result"
    }
   ],
   "source": [
    "ba[~(ba < ba.mean())]  # Mit ~ eine Bedingung invertieren"
   ]
  },
  {
   "cell_type": "code",
   "execution_count": 78,
   "id": "d7eb52bd-bfb2-4a41-b0e1-c9424e8a510b",
   "metadata": {},
   "outputs": [
    {
     "data": {
      "text/plain": [
       "array([[93, 90, 78, 61, 85, 74, 21, 71, 86, 90],\n",
       "       [51, 61, 96, 32, 48, 27, 54, 31, 91, 94],\n",
       "       [ 5, 89, 41, 23, 10, 62, 64, 27, 97, 33],\n",
       "       [30, 99,  6, 88, 99, 33, 12, 25, 70, 13],\n",
       "       [74, 30, 50,  2, 66, 29, 30, 67, 37, 43],\n",
       "       [63, 47, 85, 52, 97, 77, 24, 65, 27, 25],\n",
       "       [ 2, 77, 30,  3, 56,  6, 71, 28, 24, 48],\n",
       "       [11, 55, 27, 18, 19,  1, 60, 78, 74, 40],\n",
       "       [ 7, 45, 61, 16, 87, 26, 48, 90, 66, 78],\n",
       "       [ 4, 65, 49, 67, 21, 57,  7, 68,  9, 60]])"
      ]
     },
     "execution_count": 78,
     "metadata": {},
     "output_type": "execute_result"
    }
   ],
   "source": [
    "r = np.random.randint(100, size=(10, 10))\n",
    "r"
   ]
  },
  {
   "cell_type": "code",
   "execution_count": 79,
   "id": "d313b4b9-7a40-4093-9619-0fe761297c54",
   "metadata": {},
   "outputs": [
    {
     "data": {
      "text/plain": [
       "array([[ True,  True,  True,  True,  True,  True, False,  True,  True,\n",
       "         True],\n",
       "       [ True,  True,  True, False, False, False,  True, False,  True,\n",
       "         True],\n",
       "       [False,  True, False, False, False,  True,  True, False,  True,\n",
       "        False],\n",
       "       [False,  True, False,  True,  True, False, False, False,  True,\n",
       "        False],\n",
       "       [ True, False, False, False,  True, False, False,  True, False,\n",
       "        False],\n",
       "       [ True, False,  True,  True,  True,  True, False,  True, False,\n",
       "        False],\n",
       "       [False,  True, False, False,  True, False,  True, False, False,\n",
       "        False],\n",
       "       [False,  True, False, False, False, False,  True,  True,  True,\n",
       "        False],\n",
       "       [False, False,  True, False,  True, False, False,  True,  True,\n",
       "         True],\n",
       "       [False,  True, False,  True, False,  True, False,  True, False,\n",
       "         True]])"
      ]
     },
     "execution_count": 79,
     "metadata": {},
     "output_type": "execute_result"
    }
   ],
   "source": [
    "r > 50"
   ]
  },
  {
   "cell_type": "code",
   "execution_count": 80,
   "id": "c1127489-dae3-4376-be7a-2cb788e1f0bc",
   "metadata": {},
   "outputs": [
    {
     "data": {
      "text/plain": [
       "array([93, 90, 78, 61, 85, 74, 71, 86, 90, 51, 61, 96, 54, 91, 94, 89, 62,\n",
       "       64, 97, 99, 88, 99, 70, 74, 66, 67, 63, 85, 52, 97, 77, 65, 77, 56,\n",
       "       71, 55, 60, 78, 74, 61, 87, 90, 66, 78, 65, 67, 57, 68, 60])"
      ]
     },
     "execution_count": 80,
     "metadata": {},
     "output_type": "execute_result"
    }
   ],
   "source": [
    "r[r > 50]"
   ]
  },
  {
   "cell_type": "code",
   "execution_count": 81,
   "id": "d4546b81-d195-402f-8a7b-ddb0c01cf11d",
   "metadata": {},
   "outputs": [
    {
     "data": {
      "text/plain": [
       "49"
      ]
     },
     "execution_count": 81,
     "metadata": {},
     "output_type": "execute_result"
    }
   ],
   "source": [
    "np.count_nonzero(r[r > 50])"
   ]
  },
  {
   "cell_type": "markdown",
   "id": "c883776b-d216-4475-a62e-0f059d413350",
   "metadata": {},
   "source": [
    "## Performance"
   ]
  },
  {
   "cell_type": "code",
   "execution_count": 83,
   "id": "06ec191b-6391-417e-943f-5c3155ed8a08",
   "metadata": {},
   "outputs": [],
   "source": [
    "import sys"
   ]
  },
  {
   "cell_type": "code",
   "execution_count": 86,
   "id": "e3985abc-d8d7-4270-9e30-afd047a60798",
   "metadata": {},
   "outputs": [],
   "source": [
    "x = 5  # Normaler Python int"
   ]
  },
  {
   "cell_type": "code",
   "execution_count": 87,
   "id": "1fe81cf8-df74-41ab-b86d-6ad2741be405",
   "metadata": {},
   "outputs": [
    {
     "data": {
      "text/plain": [
       "28"
      ]
     },
     "execution_count": 87,
     "metadata": {},
     "output_type": "execute_result"
    }
   ],
   "source": [
    "sys.getsizeof(x)  # 28 Byte für eine Zahl!"
   ]
  },
  {
   "cell_type": "code",
   "execution_count": 89,
   "id": "fcfdd3c1-72bf-4071-9682-0346572e1bd1",
   "metadata": {
    "scrolled": true
   },
   "outputs": [
    {
     "data": {
      "text/plain": [
       "4"
      ]
     },
     "execution_count": 89,
     "metadata": {},
     "output_type": "execute_result"
    }
   ],
   "source": [
    "np.dtype(int).itemsize"
   ]
  },
  {
   "cell_type": "code",
   "execution_count": 93,
   "id": "f15ef23c-9d60-486c-afcd-ca4631ad4e0c",
   "metadata": {},
   "outputs": [
    {
     "data": {
      "text/plain": [
       "1"
      ]
     },
     "execution_count": 93,
     "metadata": {},
     "output_type": "execute_result"
    }
   ],
   "source": [
    "np.dtype(np.int8).itemsize"
   ]
  },
  {
   "cell_type": "code",
   "execution_count": 95,
   "id": "e1fe5260-bae7-41f9-a1c3-8d7835439625",
   "metadata": {},
   "outputs": [
    {
     "data": {
      "text/plain": [
       "8"
      ]
     },
     "execution_count": 95,
     "metadata": {},
     "output_type": "execute_result"
    }
   ],
   "source": [
    "np.dtype(float).itemsize"
   ]
  },
  {
   "cell_type": "code",
   "execution_count": 96,
   "id": "697085ee-d15f-4a21-ac2d-2e957a224623",
   "metadata": {},
   "outputs": [
    {
     "data": {
      "text/plain": [
       "2"
      ]
     },
     "execution_count": 96,
     "metadata": {},
     "output_type": "execute_result"
    }
   ],
   "source": [
    "np.dtype(np.float16).itemsize"
   ]
  },
  {
   "cell_type": "markdown",
   "id": "cbba3822-73ef-4aaa-97c8-8142a86dfd20",
   "metadata": {},
   "source": [
    "Listenvergleich"
   ]
  },
  {
   "cell_type": "code",
   "execution_count": 98,
   "id": "ff4f2e6b-1612-4f05-ac57-20c9ed125860",
   "metadata": {},
   "outputs": [
    {
     "data": {
      "text/plain": [
       "64"
      ]
     },
     "execution_count": 98,
     "metadata": {},
     "output_type": "execute_result"
    }
   ],
   "source": [
    "sys.getsizeof([1])  # Python Liste mit einer Zahl: 64 Byte"
   ]
  },
  {
   "cell_type": "code",
   "execution_count": 100,
   "id": "80d9740b-57ac-42d1-9571-38358f7ef425",
   "metadata": {},
   "outputs": [
    {
     "data": {
      "text/plain": [
       "4"
      ]
     },
     "execution_count": 100,
     "metadata": {},
     "output_type": "execute_result"
    }
   ],
   "source": [
    "np.array([1]).nbytes"
   ]
  },
  {
   "cell_type": "code",
   "execution_count": 101,
   "id": "9fe09862-6d83-433e-91d5-ea274e61d23e",
   "metadata": {},
   "outputs": [],
   "source": [
    "pythonList = list(range(10000000))"
   ]
  },
  {
   "cell_type": "code",
   "execution_count": 102,
   "id": "c2f2c432-221b-49ec-8860-4148b9b76d94",
   "metadata": {},
   "outputs": [],
   "source": [
    "numpyArray = np.arange(10000000)"
   ]
  },
  {
   "cell_type": "code",
   "execution_count": 103,
   "id": "4188eeb8-4847-40d4-a56d-f74807c0124e",
   "metadata": {},
   "outputs": [
    {
     "name": "stdout",
     "output_type": "stream",
     "text": [
      "CPU times: total: 4.58 s\n",
      "Wall time: 4.62 s\n"
     ]
    },
    {
     "data": {
      "text/plain": [
       "333333283333335000000"
      ]
     },
     "execution_count": 103,
     "metadata": {},
     "output_type": "execute_result"
    }
   ],
   "source": [
    "%time sum([x ** 2 for x in pythonList])"
   ]
  },
  {
   "cell_type": "code",
   "execution_count": 104,
   "id": "5ebee13c-fc8d-4c31-9c86-29b7e770cf6a",
   "metadata": {},
   "outputs": [
    {
     "name": "stdout",
     "output_type": "stream",
     "text": [
      "CPU times: total: 31.2 ms\n",
      "Wall time: 25 ms\n"
     ]
    },
    {
     "data": {
      "text/plain": [
       "-1039031360"
      ]
     },
     "execution_count": 104,
     "metadata": {},
     "output_type": "execute_result"
    }
   ],
   "source": [
    "%time np.sum(numpyArray ** 2)"
   ]
  },
  {
   "cell_type": "markdown",
   "id": "915e4a69-22bd-4164-8aca-0a75d4717ccf",
   "metadata": {},
   "source": [
    "## Andere Funktionen"
   ]
  },
  {
   "cell_type": "code",
   "execution_count": 106,
   "id": "d8a06de9-179e-4436-8317-62c52d0f8a20",
   "metadata": {},
   "outputs": [
    {
     "data": {
      "text/plain": [
       "array([[0.42915143, 0.99925281, 0.98697052],\n",
       "       [0.21255051, 0.06891926, 0.79114929],\n",
       "       [0.76102596, 0.71363334, 0.61657958]])"
      ]
     },
     "execution_count": 106,
     "metadata": {},
     "output_type": "execute_result"
    }
   ],
   "source": [
    "np.random.random(size=(3, 3))"
   ]
  },
  {
   "cell_type": "code",
   "execution_count": 109,
   "id": "a22c12a7-ab3c-4387-bb3e-4043ac05ab25",
   "metadata": {},
   "outputs": [
    {
     "data": {
      "text/plain": [
       "array([0. , 0.1, 0.2, 0.3, 0.4, 0.5, 0.6, 0.7, 0.8, 0.9, 1. , 1.1, 1.2,\n",
       "       1.3, 1.4, 1.5, 1.6, 1.7, 1.8, 1.9, 2. , 2.1, 2.2, 2.3, 2.4, 2.5,\n",
       "       2.6, 2.7, 2.8, 2.9, 3. , 3.1, 3.2, 3.3, 3.4, 3.5, 3.6, 3.7, 3.8,\n",
       "       3.9, 4. , 4.1, 4.2, 4.3, 4.4, 4.5, 4.6, 4.7, 4.8, 4.9, 5. , 5.1,\n",
       "       5.2, 5.3, 5.4, 5.5, 5.6, 5.7, 5.8, 5.9, 6. , 6.1, 6.2, 6.3, 6.4,\n",
       "       6.5, 6.6, 6.7, 6.8, 6.9, 7. , 7.1, 7.2, 7.3, 7.4, 7.5, 7.6, 7.7,\n",
       "       7.8, 7.9, 8. , 8.1, 8.2, 8.3, 8.4, 8.5, 8.6, 8.7, 8.8, 8.9, 9. ,\n",
       "       9.1, 9.2, 9.3, 9.4, 9.5, 9.6, 9.7, 9.8, 9.9])"
      ]
     },
     "execution_count": 109,
     "metadata": {},
     "output_type": "execute_result"
    }
   ],
   "source": [
    "np.arange(0, 10, 0.1)  # bei aRange können auch Schritte angegeben werden"
   ]
  },
  {
   "cell_type": "code",
   "execution_count": 114,
   "id": "9d7691b6-83cf-45a0-bb87-bc3f0b4b4201",
   "metadata": {},
   "outputs": [
    {
     "data": {
      "text/plain": [
       "array([[ 0,  1,  2,  3,  4,  5,  6,  7,  8],\n",
       "       [ 9, 10, 11, 12, 13, 14, 15, 16, 17],\n",
       "       [18, 19, 20, 21, 22, 23, 24, 25, 26],\n",
       "       [27, 28, 29, 30, 31, 32, 33, 34, 35],\n",
       "       [36, 37, 38, 39, 40, 41, 42, 43, 44],\n",
       "       [45, 46, 47, 48, 49, 50, 51, 52, 53],\n",
       "       [54, 55, 56, 57, 58, 59, 60, 61, 62],\n",
       "       [63, 64, 65, 66, 67, 68, 69, 70, 71],\n",
       "       [72, 73, 74, 75, 76, 77, 78, 79, 80],\n",
       "       [81, 82, 83, 84, 85, 86, 87, 88, 89],\n",
       "       [90, 91, 92, 93, 94, 95, 96, 97, 98]])"
      ]
     },
     "execution_count": 114,
     "metadata": {},
     "output_type": "execute_result"
    }
   ],
   "source": [
    "np.arange(99).reshape(11, 9)  # Bringt ein Array in eine neue Form, Anzahl Felder muss übereinstimmen"
   ]
  },
  {
   "cell_type": "code",
   "execution_count": 117,
   "id": "95077a26-278a-4f9f-80fb-448bf2cee20f",
   "metadata": {},
   "outputs": [
    {
     "data": {
      "text/plain": [
       "array([0.  , 0.05, 0.1 , 0.15, 0.2 , 0.25, 0.3 , 0.35, 0.4 , 0.45, 0.5 ,\n",
       "       0.55, 0.6 , 0.65, 0.7 , 0.75, 0.8 , 0.85, 0.9 , 0.95, 1.  ])"
      ]
     },
     "execution_count": 117,
     "metadata": {},
     "output_type": "execute_result"
    }
   ],
   "source": [
    "np.linspace(0, 1, 21)  # Erzeugt ein Array von X bis Y mit Z Elementen zwischen X und Y"
   ]
  },
  {
   "cell_type": "code",
   "execution_count": 118,
   "id": "74b8e8e1-b915-4755-b0a3-0260714c4dac",
   "metadata": {},
   "outputs": [
    {
     "data": {
      "text/plain": [
       "array([0., 0., 0., 0., 0., 0., 0., 0., 0., 0.])"
      ]
     },
     "execution_count": 118,
     "metadata": {},
     "output_type": "execute_result"
    }
   ],
   "source": [
    "np.zeros(10)"
   ]
  },
  {
   "cell_type": "code",
   "execution_count": 120,
   "id": "62e87f08-12e2-40bf-adb4-2920b22ee582",
   "metadata": {},
   "outputs": [
    {
     "data": {
      "text/plain": [
       "array([1., 1., 1., 1., 1., 1., 1., 1., 1., 1.])"
      ]
     },
     "execution_count": 120,
     "metadata": {},
     "output_type": "execute_result"
    }
   ],
   "source": [
    "np.ones(10)"
   ]
  },
  {
   "cell_type": "code",
   "execution_count": 123,
   "id": "42b1ce8f-81e9-4aef-993b-249374794b13",
   "metadata": {},
   "outputs": [
    {
     "data": {
      "text/plain": [
       "array([ 0,  1,  2,  3,  4,  5,  6,  7,  8,  9, 10, 11, 12, 13, 14, 15, 16,\n",
       "       17, 18, 19, 20, 21, 22, 23, 24, 25, 26, 27, 28, 29, 30, 31, 32, 33,\n",
       "       34, 35, 36, 37, 38, 39, 40, 41, 42, 43, 44, 45, 46, 47, 48, 49, 50,\n",
       "       51, 52, 53, 54, 55, 56, 57, 58, 59, 60, 61, 62, 63, 64, 65, 66, 67,\n",
       "       68, 69, 70, 71, 72, 73, 74, 75, 76, 77, 78, 79, 80, 81, 82, 83, 84,\n",
       "       85, 86, 87, 88, 89, 90, 91, 92, 93, 94, 95, 96, 97, 98])"
      ]
     },
     "execution_count": 123,
     "metadata": {},
     "output_type": "execute_result"
    }
   ],
   "source": [
    "np.arange(99).reshape(11, 9).reshape(-1,)  # Mehrdimensionales Array Eindimensional machen"
   ]
  }
 ],
 "metadata": {
  "kernelspec": {
   "display_name": "Python 3 (ipykernel)",
   "language": "python",
   "name": "python3"
  },
  "language_info": {
   "codemirror_mode": {
    "name": "ipython",
    "version": 3
   },
   "file_extension": ".py",
   "mimetype": "text/x-python",
   "name": "python",
   "nbconvert_exporter": "python",
   "pygments_lexer": "ipython3",
   "version": "3.10.6"
  }
 },
 "nbformat": 4,
 "nbformat_minor": 5
}
